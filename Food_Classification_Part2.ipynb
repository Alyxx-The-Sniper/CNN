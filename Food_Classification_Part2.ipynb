{
  "nbformat": 4,
  "nbformat_minor": 0,
  "metadata": {
    "colab": {
      "provenance": [],
      "mount_file_id": "1OmQo3OK79jSWPL9rFrkDwR16UGzspj1n",
      "authorship_tag": "ABX9TyOfx982YzlyF7NQcQGUJ+FG",
      "include_colab_link": true
    },
    "kernelspec": {
      "name": "python3",
      "display_name": "Python 3"
    },
    "language_info": {
      "name": "python"
    }
  },
  "cells": [
    {
      "cell_type": "markdown",
      "metadata": {
        "id": "view-in-github",
        "colab_type": "text"
      },
      "source": [
        "<a href=\"https://colab.research.google.com/github/Alyxx-The-Sniper/CNN/blob/main/Food_Classification_Part2.ipynb\" target=\"_parent\"><img src=\"https://colab.research.google.com/assets/colab-badge.svg\" alt=\"Open In Colab\"/></a>"
      ]
    },
    {
      "cell_type": "markdown",
      "source": [
        "In this article, we will revisit our Food101 classification project, this time implementing it in a modular style. I have copied our previous code into a Python script.\n",
        "\n",
        "1. get_data.py: This code is responsible for retrieving our dataset from Google Drive and transferring it to Google Colab in a standardized image classification format.\n",
        "\n",
        "2. data_setup.py: This code takes the paths of the training and testing directories and converts them into PyTorch Datasets and DataLoaders.\n",
        "\n",
        "3. model_builder.py: This code replicates the TinyVGG architecture from the CNN explainer website.\n",
        "\n",
        "4. engine.py: This file contains functions for training and testing a PyTorch model. It returns the train and test loss and accuracy.\n",
        "\n",
        "5. train.py: This script trains a PyTorch image classification model using the specified argument parameters.\n",
        "\n",
        "6. utils.py: This file includes various utility functions for PyTorch model training and saving.\n",
        "\n",
        "7. helper_functions.py: This script contains various code snippets for plotting and visualizations.\n",
        "\n",
        "By breaking down our project into modular components, we aim to improve code organization, reusability, and maintainability. Each module focuses on a specific aspect of the project, making it easier to debug, modify, and collaborate with others.\n"
      ],
      "metadata": {
        "id": "ZX-NfOnlbVwO"
      }
    },
    {
      "cell_type": "markdown",
      "source": [
        "\n",
        "\n",
        "---\n",
        "\n"
      ],
      "metadata": {
        "id": "nZrNAKyae8pa"
      }
    },
    {
      "cell_type": "markdown",
      "source": [
        "First we need to download our python scripts."
      ],
      "metadata": {
        "id": "G2oR7N7Ke2Jh"
      }
    },
    {
      "cell_type": "code",
      "source": [
        "import shutil\n",
        "from shutil import copy\n",
        "\n",
        "def copy_drive_script(source_file_path: str, destination_file_path: str):\n",
        "  copy(source_file_path, destination_file_path)\n",
        "  print(\"File copied successfully!\")\n",
        "\n",
        "source = ['/content/drive/MyDrive/Deep_learning/get_data.py',\n",
        "          '/content/drive/MyDrive/Deep_learning/data_setup.py',\n",
        "          '/content/drive/MyDrive/Deep_learning/model_builder.py',\n",
        "          '/content/drive/MyDrive/Deep_learning/engine.py',\n",
        "          '/content/drive/MyDrive/Deep_learning/utils.py',\n",
        "          '/content/drive/MyDrive/Deep_learning/train.py',\n",
        "          '/content/drive/MyDrive/Deep_learning/predict.py']\n",
        "\n",
        "destination = ['get_data.py', 'data_setup.py','model_builder.py', 'engine.py', 'utils.py', 'train.py', 'predict.py'] \n",
        "\n",
        "for src, dest in zip(source, destination):\n",
        "    copy(src, dest)\n",
        "    print ('File copied successfully!')"
      ],
      "metadata": {
        "id": "xUXRwNgmYRP8",
        "colab": {
          "base_uri": "https://localhost:8080/"
        },
        "outputId": "44bfc09b-6fdc-48b6-c804-e2c24e1881bc"
      },
      "execution_count": null,
      "outputs": [
        {
          "output_type": "stream",
          "name": "stdout",
          "text": [
            "File copied successfully!\n",
            "File copied successfully!\n",
            "File copied successfully!\n",
            "File copied successfully!\n",
            "File copied successfully!\n",
            "File copied successfully!\n",
            "File copied successfully!\n"
          ]
        }
      ]
    },
    {
      "cell_type": "markdown",
      "source": [
        "\n",
        "\n",
        "---\n",
        "\n",
        "\n"
      ],
      "metadata": {
        "id": "mwB8MKlTji7y"
      }
    },
    {
      "cell_type": "markdown",
      "source": [
        "# Get_data"
      ],
      "metadata": {
        "id": "NPzYwpgjJa-_"
      }
    },
    {
      "cell_type": "code",
      "source": [
        "!python get_data.py"
      ],
      "metadata": {
        "colab": {
          "base_uri": "https://localhost:8080/"
        },
        "id": "KvhIDrhhzWWJ",
        "outputId": "45bba8ce-5edd-4df4-bdec-f32f7df63064"
      },
      "execution_count": null,
      "outputs": [
        {
          "output_type": "stream",
          "name": "stdout",
          "text": [
            "[INFO] Copying 0.1 percent of ['cup_cakes', 'donuts', 'french_fries', 'ice_cream']\n",
            "Downloading test data...\n",
            "100%|███████████████████████████████████████████| 25/25 [00:16<00:00,  1.51it/s]\n",
            "100%|███████████████████████████████████████████| 25/25 [00:15<00:00,  1.66it/s]\n",
            "100%|███████████████████████████████████████████| 25/25 [00:14<00:00,  1.70it/s]\n",
            "100%|███████████████████████████████████████████| 25/25 [00:13<00:00,  1.80it/s]\n",
            "Downloading train data...\n",
            "100%|███████████████████████████████████████████| 75/75 [00:26<00:00,  2.82it/s]\n",
            "100%|███████████████████████████████████████████| 75/75 [00:26<00:00,  2.85it/s]\n",
            "100%|███████████████████████████████████████████| 75/75 [00:26<00:00,  2.85it/s]\n",
            "100%|███████████████████████████████████████████| 75/75 [00:25<00:00,  2.93it/s]\n",
            "Download Complete\n"
          ]
        }
      ]
    },
    {
      "cell_type": "markdown",
      "source": [
        "\n",
        "\n",
        "---\n"
      ],
      "metadata": {
        "id": "0Pv5S6DQ4uZK"
      }
    },
    {
      "cell_type": "markdown",
      "source": [
        "# train.py"
      ],
      "metadata": {
        "id": "QyQ7LX86Jd_4"
      }
    },
    {
      "cell_type": "code",
      "source": [
        "!python train.py --num_epochs 12 --batch_size 32 --hidden_units 10 --learning_rates 0.001"
      ],
      "metadata": {
        "colab": {
          "base_uri": "https://localhost:8080/"
        },
        "id": "Jql0D-Flq2HW",
        "outputId": "b544f699-3240-4564-c308-60b957377480"
      },
      "execution_count": null,
      "outputs": [
        {
          "output_type": "stream",
          "name": "stdout",
          "text": [
            "[INFO] Training a model for 12 epochs with a batch size 32 using 10 hidden units and a learning rate of 0.001\n",
            "  0% 0/12 [00:00<?, ?it/s]Epoch: 1 | train_loss: 1.3990 | train_acc: 0.2000 | test_loss: 1.3943 | test_acc: 0.2031\n",
            "  8% 1/12 [00:02<00:30,  2.75s/it]Epoch: 2 | train_loss: 1.3867 | train_acc: 0.2490 | test_loss: 1.3778 | test_acc: 0.3672\n",
            " 17% 2/12 [00:06<00:33,  3.39s/it]Epoch: 3 | train_loss: 1.3819 | train_acc: 0.3312 | test_loss: 1.3682 | test_acc: 0.4062\n",
            " 25% 3/12 [00:10<00:31,  3.45s/it]Epoch: 4 | train_loss: 1.3694 | train_acc: 0.2958 | test_loss: 1.3708 | test_acc: 0.1875\n",
            " 33% 4/12 [00:12<00:25,  3.13s/it]Epoch: 5 | train_loss: 1.3481 | train_acc: 0.3542 | test_loss: 1.3506 | test_acc: 0.2969\n",
            " 42% 5/12 [00:15<00:20,  2.95s/it]Epoch: 6 | train_loss: 1.2881 | train_acc: 0.4875 | test_loss: 1.3068 | test_acc: 0.2969\n",
            " 50% 6/12 [00:17<00:17,  2.84s/it]Epoch: 7 | train_loss: 1.2119 | train_acc: 0.4333 | test_loss: 1.2988 | test_acc: 0.3984\n",
            " 58% 7/12 [00:22<00:16,  3.28s/it]Epoch: 8 | train_loss: 1.1647 | train_acc: 0.4844 | test_loss: 1.3781 | test_acc: 0.3125\n",
            " 67% 8/12 [00:25<00:13,  3.26s/it]Epoch: 9 | train_loss: 1.1639 | train_acc: 0.4917 | test_loss: 1.3685 | test_acc: 0.3516\n",
            " 75% 9/12 [00:29<00:10,  3.54s/it]Epoch: 10 | train_loss: 1.1391 | train_acc: 0.5188 | test_loss: 1.3483 | test_acc: 0.4297\n",
            " 83% 10/12 [00:32<00:06,  3.27s/it]Epoch: 11 | train_loss: 1.0977 | train_acc: 0.5042 | test_loss: 1.4300 | test_acc: 0.3516\n",
            " 92% 11/12 [00:36<00:03,  3.44s/it]Epoch: 12 | train_loss: 1.0458 | train_acc: 0.5740 | test_loss: 1.4316 | test_acc: 0.3281\n",
            "100% 12/12 [00:39<00:00,  3.30s/it]\n",
            "[INFO] Saving model to: models/05_going_modular_script_mode_tinyvgg_model.pth\n"
          ]
        }
      ]
    },
    {
      "cell_type": "markdown",
      "source": [
        "# predict.py"
      ],
      "metadata": {
        "id": "YcPyIxdlCL84"
      }
    },
    {
      "cell_type": "code",
      "source": [
        "!python predict.py --image /content/data/my_fav_foods/test/cup_cakes/106496.jpg --model_path /content/models/05_going_modular_script_mode_tinyvgg_model.pth"
      ],
      "metadata": {
        "colab": {
          "base_uri": "https://localhost:8080/"
        },
        "id": "sv_c6z2xCNvJ",
        "outputId": "1804aa82-4eb0-4255-daa0-35d4f7520d65"
      },
      "execution_count": null,
      "outputs": [
        {
          "output_type": "stream",
          "name": "stdout",
          "text": [
            "[INFO] Predicting on /content/data/my_fav_foods/test/cup_cakes/106496.jpg\n",
            "[INFO] Loading in model from: /content/models/05_going_modular_script_mode_tinyvgg_model.pth\n",
            "[INFO] Pred class: cup_cakes, Pred prob: 0.435\n"
          ]
        }
      ]
    }
  ]
}