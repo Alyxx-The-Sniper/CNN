{
  "cells": [
    {
      "cell_type": "markdown",
      "metadata": {
        "id": "view-in-github",
        "colab_type": "text"
      },
      "source": [
        "<a href=\"https://colab.research.google.com/github/Alyxx-The-Sniper/CNN/blob/main/Model_Deployment_(Part_5).ipynb\" target=\"_parent\"><img src=\"https://colab.research.google.com/assets/colab-badge.svg\" alt=\"Open In Colab\"/></a>"
      ]
    },
    {
      "cell_type": "markdown",
      "metadata": {
        "id": "U76KQ1nKUqz8"
      },
      "source": [
        "#Food Classification (Part 5)\n",
        "Model Deployment\n",
        "\n"
      ]
    },
    {
      "cell_type": "markdown",
      "source": [
        "During the Food Classification (Part 4) phase, we compared multiple models and determined that the Vision Transformer model, despite its larger file size, demonstrated superior performance in terms of loss and accuracy. Now, as we move forward with the project, we need to carefully evaluate and compare the performance of different models to make an informed decision for deployment.\n",
        "\n",
        "In particular, we will focus on comparing the EfficientNet B0 model, which offers reasonably good results and has a smaller file size, with the ViT B16 (Weights.IMAGENET1K_SWAG_E2E_V1) model. Our comparison will consider various factors to determine which model best meets our deployment requirements.\n",
        "\n",
        "For the deployment of our Food Classification Model in a demo Gradio app on a smartphone device, we have set specific metrics to achieve:\n",
        "\n",
        "1. Performance: We aim for an accuracy of 90% or higher, ensuring reliable food classification.\n",
        "2. Speed: Real-time inference of 30FPS-50FPS (frames per second) or more, ensuring fast and responsive predictions. Each prediction should have a latency of less than approximately 0.03 - 0.04 seconds.\n",
        "\n",
        "By carefully evaluating and comparing these metrics, we can make an informed decision about the most suitable model for our deployment scenario."
      ],
      "metadata": {
        "id": "9TeFf1ZALlGs"
      }
    },
    {
      "cell_type": "markdown",
      "metadata": {
        "id": "Kwfk_vYIZMWm"
      },
      "source": [
        "\n",
        "\n",
        "---\n",
        "\n",
        "\n",
        "\n",
        "\n",
        "\n"
      ]
    },
    {
      "cell_type": "markdown",
      "source": [
        "# Data Preparation"
      ],
      "metadata": {
        "id": "441RWrwiQRKi"
      }
    },
    {
      "cell_type": "markdown",
      "metadata": {
        "id": "gDiOxJdeZPS1"
      },
      "source": [
        "###Download Necessary Modular Script\n",
        "We will download Python scripts that enable code reuse for our analysis. These scripts will provide functionality that can be utilized across different parts of our analysis, allowing us to save time and effort in writing redundant code.\n"
      ]
    },
    {
      "cell_type": "code",
      "execution_count": 1,
      "metadata": {
        "colab": {
          "base_uri": "https://localhost:8080/"
        },
        "id": "mrxMy51gUwYb",
        "outputId": "57d5349c-0f73-4120-e86a-c51da3a822de"
      },
      "outputs": [
        {
          "output_type": "stream",
          "name": "stdout",
          "text": [
            "File copied successfully!\n",
            "File copied successfully!\n",
            "File copied successfully!\n",
            "File copied successfully!\n",
            "File copied successfully!\n",
            "File copied successfully!\n",
            "File copied successfully!\n"
          ]
        }
      ],
      "source": [
        "from pathlib import Path\n",
        "import shutil\n",
        "import os\n",
        "import sys\n",
        "\n",
        "\n",
        "# Function to copy necessary scripts\n",
        "def copy_drive_script(source_file_path: str, destination_file_path: str):\n",
        "    copy(source_file_path, destination_file_path)\n",
        "    print(\"File copied successfully!\")\n",
        "\n",
        "# Modular Script Path\n",
        "Path_scripts = Path('/content/drive/MyDrive/Deep_learning/Modular_Script')\n",
        "\n",
        "source = [Path_scripts / 'get_data.py',\n",
        "          Path_scripts / 'data_setup.py',\n",
        "          # Path_scripts / 'model_builder.py',\n",
        "          Path_scripts / 'engine.py',\n",
        "          Path_scripts / 'utils.py',\n",
        "          Path_scripts / 'train.py',\n",
        "          Path_scripts / 'predict.py',\n",
        "          Path_scripts / '__init__.py']\n",
        "\n",
        "destination = ['modular_codes/get_data.py',\n",
        "               'modular_codes/data_setup.py',\n",
        "              #  'modular_codes/model_builder.py',\n",
        "               'modular_codes/engine.py',\n",
        "               'modular_codes/utils.py',\n",
        "               'modular_codes/train.py',\n",
        "               'modular_codes/predict.py',\n",
        "               'modular_codes/__init__.py']\n",
        "\n",
        "# Copy from source to location\n",
        "for src, dest in zip(source, destination):\n",
        "    # Create the destination directory if it doesn't exist\n",
        "    if not os.path.exists(os.path.dirname(dest)):\n",
        "        os.makedirs(os.path.dirname(dest))\n",
        "\n",
        "    try:\n",
        "        shutil.copy(src, dest)\n",
        "        print('File copied successfully!')\n",
        "    except FileNotFoundError:\n",
        "        print(f\"Error: File '{src}' not found.\")\n",
        "\n"
      ]
    },
    {
      "cell_type": "markdown",
      "source": [
        "###Setup device-agnostic code"
      ],
      "metadata": {
        "id": "G7lhqC6gLSNu"
      }
    },
    {
      "cell_type": "code",
      "execution_count": 2,
      "metadata": {
        "colab": {
          "base_uri": "https://localhost:8080/",
          "height": 36
        },
        "id": "GFrSvGwbu7vT",
        "outputId": "d5b0df0c-6fc5-473b-d93b-ce61bb698583"
      },
      "outputs": [
        {
          "output_type": "execute_result",
          "data": {
            "text/plain": [
              "'cuda'"
            ],
            "application/vnd.google.colaboratory.intrinsic+json": {
              "type": "string"
            }
          },
          "metadata": {},
          "execution_count": 2
        }
      ],
      "source": [
        "import torch\n",
        "device = \"cuda\" if torch.cuda.is_available() else \"cpu\"\n",
        "device"
      ]
    },
    {
      "cell_type": "markdown",
      "metadata": {
        "id": "cDs3wAfwjuoL"
      },
      "source": [
        "### Get_data"
      ]
    },
    {
      "cell_type": "markdown",
      "source": [
        "We will obtain a 20% sample of the images. The downloaded data is already in the standard format for image classification."
      ],
      "metadata": {
        "id": "dSwUhkRgLiR4"
      }
    },
    {
      "cell_type": "code",
      "execution_count": 3,
      "metadata": {
        "colab": {
          "base_uri": "https://localhost:8080/"
        },
        "id": "9TMy1w_ukdOf",
        "outputId": "749022a6-350e-4871-a956-dfb12eab4e75"
      },
      "outputs": [
        {
          "output_type": "stream",
          "name": "stdout",
          "text": [
            "[INFO] Copying 0.2 percent of ['cup_cakes', 'donuts', 'french_fries', 'ice_cream']\n",
            "Downloading test data...\n",
            "100%|███████████████████████████████████████████| 50/50 [00:42<00:00,  1.19it/s]\n",
            "100%|███████████████████████████████████████████| 50/50 [00:36<00:00,  1.36it/s]\n",
            "100%|███████████████████████████████████████████| 50/50 [00:36<00:00,  1.36it/s]\n",
            "100%|███████████████████████████████████████████| 50/50 [00:34<00:00,  1.44it/s]\n",
            "Downloading train data...\n",
            "100%|█████████████████████████████████████████| 150/150 [01:29<00:00,  1.67it/s]\n",
            "100%|█████████████████████████████████████████| 150/150 [01:26<00:00,  1.73it/s]\n",
            "100%|█████████████████████████████████████████| 150/150 [01:33<00:00,  1.61it/s]\n",
            "100%|█████████████████████████████████████████| 150/150 [01:26<00:00,  1.74it/s]\n",
            "Download Complete\n"
          ]
        }
      ],
      "source": [
        "!python modular_codes/get_data.py --food_list 'cup_cakes,donuts,french_fries,ice_cream' --copy_percentage 0.2"
      ]
    },
    {
      "cell_type": "markdown",
      "metadata": {
        "id": "02nU7YAgxj_y"
      },
      "source": [
        "###Setup train and test directories\n"
      ]
    },
    {
      "cell_type": "code",
      "execution_count": 4,
      "metadata": {
        "id": "4KzgWci_xwMT"
      },
      "outputs": [],
      "source": [
        "train_dir = Path('data/my_fav_foods/train')\n",
        "test_dir = Path('data/my_fav_foods/test')"
      ]
    },
    {
      "cell_type": "markdown",
      "metadata": {
        "id": "KnryNNt1yUQe"
      },
      "source": [
        "###Transforms\n",
        "We will utilize the IMAGENET1K_SWAG_E2E_V1 weight for the ViT B16 model, while for the EfficientNet B0 model, we will select the best available weight."
      ]
    },
    {
      "cell_type": "code",
      "execution_count": 5,
      "metadata": {
        "id": "I1Kn-jn_ySdf"
      },
      "outputs": [],
      "source": [
        "import torchvision\n",
        "\n",
        "# weight and transform for effnet_b0\n",
        "weights_effnet_b0 = torchvision.models.EfficientNet_B0_Weights.DEFAULT\n",
        "transforms_effnet_b0 = weights_effnet_b0.transforms()\n",
        "\n",
        "# weight and transform for vit_b_16\n",
        "weights_vit_b_16 = torchvision.models.ViT_B_16_Weights.IMAGENET1K_SWAG_E2E_V1\n",
        "transforms_vit_b_16 = weights_vit_b_16.transforms()"
      ]
    },
    {
      "cell_type": "markdown",
      "metadata": {
        "id": "o6wryTTQwJyy"
      },
      "source": [
        "###Dataloaders\n",
        "\n",
        "To accommodate the different transforms required by each model, we will create separate dataloaders for each."
      ]
    },
    {
      "cell_type": "code",
      "execution_count": 6,
      "metadata": {
        "id": "64lx4vbVwMBi"
      },
      "outputs": [],
      "source": [
        "from modular_codes import data_setup\n",
        "\n",
        "BATCH_SIZE = 32\n",
        "\n",
        "# dataloader for effent_b0\n",
        "train_dataloader_effnetb0, test_dataloader_effnetb0, class_names = data_setup.create_dataloaders(train_dir=train_dir,\n",
        "                                                                                                 test_dir=test_dir,\n",
        "                                                                                                 transform=transforms_effnet_b0,\n",
        "                                                                                                 batch_size=BATCH_SIZE)\n",
        "# dataloader for vit_b_16\n",
        "train_dataloader_vit_b_16, test_dataloader_vit_b_16, class_names = data_setup.create_dataloaders(train_dir=train_dir,\n",
        "                                                                                                 test_dir=test_dir,\n",
        "                                                                                                 transform=transforms_vit_b_16,\n",
        "                                                                                                 batch_size=BATCH_SIZE)"
      ]
    },
    {
      "cell_type": "markdown",
      "metadata": {
        "id": "JOU8Xqrezn4N"
      },
      "source": [
        "#Creating Models\n",
        "\n",
        "We will define a function to create EfficientNet_B0 and ViT_B_16 Swag models."
      ]
    },
    {
      "cell_type": "code",
      "execution_count": 7,
      "metadata": {
        "id": "NhwBWaHh1u67"
      },
      "outputs": [],
      "source": [
        "from torch import nn\n",
        "from modular_codes.utils import set_seeds\n",
        "\n",
        "# Get num out features (one for each class pizza, steak, sushi)\n",
        "OUT_FEATURES = len(class_names)"
      ]
    },
    {
      "cell_type": "code",
      "execution_count": 8,
      "metadata": {
        "id": "EZ3O4l_i2AhV"
      },
      "outputs": [],
      "source": [
        "# Create an EffNetB0 feature extractor\n",
        "def create_effnetb0():\n",
        "    # 1. Get the base mdoel with pretrained weights and send to target device\n",
        "    weights = torchvision.models.EfficientNet_B0_Weights.DEFAULT\n",
        "    model = torchvision.models.efficientnet_b0(weights=weights).to(device)\n",
        "\n",
        "    # 2. Freeze the base model layers\n",
        "    for param in model.features.parameters():\n",
        "        param.requires_grad = False\n",
        "\n",
        "    # 3. Set the seeds\n",
        "    set_seeds()\n",
        "\n",
        "    # 4. Change the classifier head\n",
        "    model.classifier = nn.Sequential(\n",
        "        nn.Dropout(p=0.2),\n",
        "        nn.Linear(in_features=1280, out_features=OUT_FEATURES)\n",
        "    ).to(device)\n",
        "\n",
        "    # 5. Give the model a name\n",
        "    model.name = \"effnetb0\"\n",
        "    print(f\"[INFO] Created new {model.name} model.\")\n",
        "    return model\n",
        "\n",
        "def create_vit_b_16_swag():\n",
        "   # 1. Get the base mdoel with pretrained weights and send to target device\n",
        "    weights = torchvision.models.ViT_B_16_Weights.IMAGENET1K_SWAG_E2E_V1\n",
        "    transforms = weights.transforms()\n",
        "    model = torchvision.models.vit_b_16(weights=weights).to(device)\n",
        "\n",
        "    # 2. Freeze the base model layers\n",
        "    for param in model.parameters():\n",
        "        param.requires_grad = False\n",
        "\n",
        "    # 3. Set the seeds\n",
        "    set_seeds()\n",
        "\n",
        "    # 4. Change the heads\n",
        "    model.heads = nn.Linear(in_features=768,\n",
        "                            out_features=len(class_names)).to(device)\n",
        "\n",
        "    # 5. Give the model a name\n",
        "    model.name = \"vit_b_16_swag\"\n",
        "    print(f\"[INFO] Created new {model.name} model.\")\n",
        "    return model"
      ]
    },
    {
      "cell_type": "code",
      "execution_count": 9,
      "metadata": {
        "colab": {
          "base_uri": "https://localhost:8080/"
        },
        "id": "NZ_KR-QY30xn",
        "outputId": "b795a272-e7aa-4622-85d3-f3e2f2cda6c3"
      },
      "outputs": [
        {
          "output_type": "stream",
          "name": "stderr",
          "text": [
            "Downloading: \"https://download.pytorch.org/models/efficientnet_b0_rwightman-3dd342df.pth\" to /root/.cache/torch/hub/checkpoints/efficientnet_b0_rwightman-3dd342df.pth\n",
            "100%|██████████| 20.5M/20.5M [00:00<00:00, 93.1MB/s]\n"
          ]
        },
        {
          "output_type": "stream",
          "name": "stdout",
          "text": [
            "[INFO] Created new effnetb0 model.\n"
          ]
        },
        {
          "output_type": "stream",
          "name": "stderr",
          "text": [
            "Downloading: \"https://download.pytorch.org/models/vit_b_16_swag-9ac1b537.pth\" to /root/.cache/torch/hub/checkpoints/vit_b_16_swag-9ac1b537.pth\n",
            "100%|██████████| 331M/331M [00:03<00:00, 91.9MB/s]\n"
          ]
        },
        {
          "output_type": "stream",
          "name": "stdout",
          "text": [
            "[INFO] Created new vit_b_16_swag model.\n"
          ]
        }
      ],
      "source": [
        "# create models\n",
        "effnetb0 = create_effnetb0()\n",
        "vit_b_16_swag = create_vit_b_16_swag()"
      ]
    },
    {
      "cell_type": "markdown",
      "metadata": {
        "id": "cHmlLyCO5ScH"
      },
      "source": [
        "#Training..."
      ]
    },
    {
      "cell_type": "markdown",
      "metadata": {
        "id": "oyF406Cf46eU"
      },
      "source": [
        "Loss and Optimizer"
      ]
    },
    {
      "cell_type": "code",
      "execution_count": 10,
      "metadata": {
        "id": "UxV1t8Ot2Aa0"
      },
      "outputs": [],
      "source": [
        "loss_fn = nn.CrossEntropyLoss()\n",
        "optimizer_effnetb0 = torch.optim.Adam(effnetb0.parameters(), lr=0.001)\n",
        "optimizer_vit_b_16_swag = torch.optim.Adam(vit_b_16_swag.parameters(), lr=0.001)"
      ]
    },
    {
      "cell_type": "markdown",
      "metadata": {
        "id": "KdrKrTgT6XA8"
      },
      "source": [
        "effnetb0 training"
      ]
    },
    {
      "cell_type": "code",
      "execution_count": 11,
      "metadata": {
        "colab": {
          "base_uri": "https://localhost:8080/",
          "height": 223,
          "referenced_widgets": [
            "6d3df3956c3d49e482d6bc3f14a0fef5",
            "34d121821c0b43f18e5f54e7e74c0ddd",
            "b0a5a596fe454ae48e46c636a38199f9",
            "6824a22af83d401e857faf08a00cae6a",
            "a8784e8c41cd486495f222d59fc957f1",
            "8b0e179de06040fdb55c91ecf6e86a65",
            "5921f0cdae1e4113b1bf55c251cc021e",
            "e3ace39bd0884042b3e51a669a58c21e",
            "a060e3019ab54e829d710215eccb7892",
            "9770301fa4624613b69d10f8f27bc707",
            "e30618730d694e399dee6e60df4a3068"
          ]
        },
        "id": "wI93W3w-2AH1",
        "outputId": "d560ab8d-d5ce-4f4c-9428-ab380904ea59"
      },
      "outputs": [
        {
          "output_type": "display_data",
          "data": {
            "text/plain": [
              "  0%|          | 0/10 [00:00<?, ?it/s]"
            ],
            "application/vnd.jupyter.widget-view+json": {
              "version_major": 2,
              "version_minor": 0,
              "model_id": "6d3df3956c3d49e482d6bc3f14a0fef5"
            }
          },
          "metadata": {}
        },
        {
          "output_type": "stream",
          "name": "stdout",
          "text": [
            "Epoch: 1 | train_loss: 1.2005 | train_acc: 0.5022 | test_loss: 0.7787 | test_acc: 0.8795\n",
            "Epoch: 2 | train_loss: 0.8338 | train_acc: 0.7769 | test_loss: 0.5824 | test_acc: 0.8973\n",
            "Epoch: 3 | train_loss: 0.6564 | train_acc: 0.8350 | test_loss: 0.4749 | test_acc: 0.8973\n",
            "Epoch: 4 | train_loss: 0.5758 | train_acc: 0.8333 | test_loss: 0.4262 | test_acc: 0.9107\n",
            "Epoch: 5 | train_loss: 0.5113 | train_acc: 0.8547 | test_loss: 0.3884 | test_acc: 0.9152\n",
            "Epoch: 6 | train_loss: 0.4722 | train_acc: 0.8799 | test_loss: 0.3594 | test_acc: 0.9107\n",
            "Epoch: 7 | train_loss: 0.4323 | train_acc: 0.8750 | test_loss: 0.3437 | test_acc: 0.9152\n",
            "Epoch: 8 | train_loss: 0.3945 | train_acc: 0.8947 | test_loss: 0.3334 | test_acc: 0.9152\n",
            "Epoch: 9 | train_loss: 0.3763 | train_acc: 0.9123 | test_loss: 0.3204 | test_acc: 0.9107\n",
            "Epoch: 10 | train_loss: 0.3832 | train_acc: 0.8898 | test_loss: 0.3078 | test_acc: 0.9196\n"
          ]
        }
      ],
      "source": [
        "from modular_codes import engine\n",
        "\n",
        "set_seeds()\n",
        "effnetb0_results = engine.train(model=effnetb0,\n",
        "                                train_dataloader=train_dataloader_effnetb0,\n",
        "                                test_dataloader=test_dataloader_effnetb0,\n",
        "                                epochs=10,\n",
        "                                optimizer=optimizer_effnetb0,\n",
        "                                loss_fn=loss_fn,\n",
        "                                device=device)"
      ]
    },
    {
      "cell_type": "markdown",
      "metadata": {
        "id": "blhwzEf96d8V"
      },
      "source": [
        "vit_b_16_swag training"
      ]
    },
    {
      "cell_type": "code",
      "execution_count": 12,
      "metadata": {
        "id": "LogN9CTEzt5W",
        "outputId": "e7ba6fc6-2219-45f3-fbad-7d485f9b41e5",
        "colab": {
          "base_uri": "https://localhost:8080/",
          "height": 223,
          "referenced_widgets": [
            "db1a8f29b87f4df3aae35c6aaf718852",
            "c9adf67c74584fca962a0cccb894fedf",
            "a98fc44fd9b34f73acaab5b9df269e4c",
            "df622924cd1e48a99f62b9ba6a54df8c",
            "f43cd5500f114adeb5a15a8e63a78dff",
            "8798b08237e5444cb7c1ec7441cb6332",
            "077db466815b4574a4df07493a9bd71d",
            "1e87e835a2764c5f9f0bdfdc0caff6bf",
            "8baf0520d9404805aff30c9e7e87e202",
            "3ee9d8fda96648f7870c598f62ce6dce",
            "7a8390d7b0674a56a97341eeb55ab22f"
          ]
        }
      },
      "outputs": [
        {
          "output_type": "display_data",
          "data": {
            "text/plain": [
              "  0%|          | 0/10 [00:00<?, ?it/s]"
            ],
            "application/vnd.jupyter.widget-view+json": {
              "version_major": 2,
              "version_minor": 0,
              "model_id": "db1a8f29b87f4df3aae35c6aaf718852"
            }
          },
          "metadata": {}
        },
        {
          "output_type": "stream",
          "name": "stdout",
          "text": [
            "Epoch: 1 | train_loss: 0.4769 | train_acc: 0.8481 | test_loss: 0.0782 | test_acc: 0.9732\n",
            "Epoch: 2 | train_loss: 0.1152 | train_acc: 0.9649 | test_loss: 0.0608 | test_acc: 0.9777\n",
            "Epoch: 3 | train_loss: 0.0738 | train_acc: 0.9759 | test_loss: 0.0599 | test_acc: 0.9821\n",
            "Epoch: 4 | train_loss: 0.0518 | train_acc: 0.9934 | test_loss: 0.0502 | test_acc: 0.9866\n",
            "Epoch: 5 | train_loss: 0.0389 | train_acc: 0.9967 | test_loss: 0.0499 | test_acc: 0.9866\n",
            "Epoch: 6 | train_loss: 0.0311 | train_acc: 1.0000 | test_loss: 0.0484 | test_acc: 0.9866\n",
            "Epoch: 7 | train_loss: 0.0246 | train_acc: 1.0000 | test_loss: 0.0454 | test_acc: 0.9821\n",
            "Epoch: 8 | train_loss: 0.0207 | train_acc: 1.0000 | test_loss: 0.0460 | test_acc: 0.9866\n",
            "Epoch: 9 | train_loss: 0.0180 | train_acc: 1.0000 | test_loss: 0.0447 | test_acc: 0.9866\n",
            "Epoch: 10 | train_loss: 0.0153 | train_acc: 1.0000 | test_loss: 0.0417 | test_acc: 0.9866\n"
          ]
        }
      ],
      "source": [
        "set_seeds()\n",
        "vit_b_16_swag_results = engine.train(model=vit_b_16_swag,\n",
        "                                train_dataloader=train_dataloader_vit_b_16,\n",
        "                                test_dataloader=test_dataloader_vit_b_16,\n",
        "                                epochs=10,\n",
        "                                optimizer=optimizer_vit_b_16_swag,\n",
        "                                loss_fn=loss_fn,\n",
        "                                device=device)"
      ]
    },
    {
      "cell_type": "markdown",
      "metadata": {
        "id": "trddnw7n8VKA"
      },
      "source": [
        "Save The Models"
      ]
    },
    {
      "cell_type": "code",
      "execution_count": 13,
      "metadata": {
        "id": "vNQwzoe5sqxe",
        "colab": {
          "base_uri": "https://localhost:8080/"
        },
        "outputId": "b13992b6-fe7b-4392-d76a-a1bf8b4bb907"
      },
      "outputs": [
        {
          "output_type": "stream",
          "name": "stdout",
          "text": [
            "[INFO] Saving model to: models/effnetb0_data20_10epoch.pth\n",
            "[INFO] Saving model to: models/vit_b_16_swag_data20_10epoch.pth\n",
            "Files downloaded.\n"
          ]
        }
      ],
      "source": [
        "from modular_codes.utils import save_model\n",
        "\n",
        "save_model(model = effnetb0,\n",
        "           target_dir = 'models',\n",
        "           model_name = 'effnetb0_data20_10epoch.pth')\n",
        "\n",
        "save_model(model = vit_b_16_swag,\n",
        "           target_dir = 'models',\n",
        "           model_name = 'vit_b_16_swag_data20_10epoch.pth')\n",
        "\n",
        "# save a copy to google drive\n",
        "# Source directory path\n",
        "source_directory = '/content/models'\n",
        "\n",
        "# Destination directory path\n",
        "destination_directory = '/content/drive/MyDrive/Deep_learning/Best_Models'\n",
        "\n",
        "# Check if the destination directory already exists\n",
        "if os.path.exists(destination_directory):\n",
        "    print(\"Files downloaded.\")\n",
        "else:\n",
        "    # Copy the contents of the source directory to the destination directory\n",
        "    shutil.copytree(source_directory, destination_directory)"
      ]
    },
    {
      "cell_type": "markdown",
      "source": [
        "# Training Results: Comparing the Best Model\n",
        "\n",
        "In this section, we compare the training results of both models based on various factors such as file size, trainable parameters, test and accuracy loss, and average prediction per sample. This comparison will help us determine the best model for our task.\n"
      ],
      "metadata": {
        "id": "O6FsDHAoS2s6"
      }
    },
    {
      "cell_type": "markdown",
      "source": [
        "1. Size"
      ],
      "metadata": {
        "id": "QNLU5qdSTkpn"
      }
    },
    {
      "cell_type": "code",
      "source": [
        "# Get the model size in bytes then convert to megabytes\n",
        "effnetb0_size = Path('/content/models/effnetb0_data20_10epoch.pth').stat().st_size // (1024*1024) # division converts bytes to megabytes (roughly)\n",
        "vit_b_16_swag_size = Path('/content/models/vit_b_16_swag_data20_10epoch.pth').stat().st_size // (1024*1024) # division converts bytes to megabytes (roughly)\n",
        "effnetb0_size, vit_b_16_swag_size"
      ],
      "metadata": {
        "colab": {
          "base_uri": "https://localhost:8080/"
        },
        "id": "6BYPioCaQfDW",
        "outputId": "5de5408f-9fe1-43e8-f79f-42f7defb09c9"
      },
      "execution_count": 14,
      "outputs": [
        {
          "output_type": "execute_result",
          "data": {
            "text/plain": [
              "(15, 328)"
            ]
          },
          "metadata": {},
          "execution_count": 14
        }
      ]
    },
    {
      "cell_type": "markdown",
      "source": [
        "2. Total Trainable Params"
      ],
      "metadata": {
        "id": "3vreqYr-TnR3"
      }
    },
    {
      "cell_type": "code",
      "source": [
        "effnetb0_params = sum(torch.numel(param) for param in effnetb0.parameters())\n",
        "vit_b_16_swag_params = sum(torch.numel(param) for param in vit_b_16_swag.parameters())\n",
        "effnetb0_params, vit_b_16_swag_params\n"
      ],
      "metadata": {
        "colab": {
          "base_uri": "https://localhost:8080/"
        },
        "id": "bmaMUFcXTgue",
        "outputId": "d5691608-7b8f-4bc2-e845-aa6c9d36be38"
      },
      "execution_count": 15,
      "outputs": [
        {
          "output_type": "execute_result",
          "data": {
            "text/plain": [
              "(4012672, 86093572)"
            ]
          },
          "metadata": {},
          "execution_count": 15
        }
      ]
    },
    {
      "cell_type": "markdown",
      "source": [
        "3. Test Loss and Accuracy\n",
        "<br/>\n",
        "Retrieve the test loss and accuracy values and store them in a dictionary for further analysis and reference."
      ],
      "metadata": {
        "id": "XQ2fKXrCUTMv"
      }
    },
    {
      "cell_type": "code",
      "source": [
        "effnetb0_stats = {\"test_loss\":  effnetb0_results[\"test_loss\"][-1],\n",
        "                  \"test_acc\":  effnetb0_results[\"test_acc\"][-1],\n",
        "                  \"number_of_parameters\": effnetb0_params,\n",
        "                  \"model_size (MB)\": effnetb0_size}\n",
        "\n",
        "vit_b_16_swag_stats = {\"test_loss\": vit_b_16_swag_results[\"test_loss\"][-1],\n",
        "                         \"test_acc\": vit_b_16_swag_results[\"test_acc\"][-1],\n",
        "                         \"number_of_parameters\": vit_b_16_swag_params,\n",
        "                          \"model_size (MB)\": vit_b_16_swag_size}\n",
        "\n",
        "effnetb0_stats,vit_b_16_swag_stats"
      ],
      "metadata": {
        "colab": {
          "base_uri": "https://localhost:8080/"
        },
        "id": "oafbeo-7T4oJ",
        "outputId": "d0918e12-51ab-4d28-b8fb-dd2800365f20"
      },
      "execution_count": 16,
      "outputs": [
        {
          "output_type": "execute_result",
          "data": {
            "text/plain": [
              "({'test_loss': 0.3077719637325832,\n",
              "  'test_acc': 0.9196428571428571,\n",
              "  'number_of_parameters': 4012672,\n",
              "  'model_size (MB)': 15},\n",
              " {'test_loss': 0.04172749366677765,\n",
              "  'test_acc': 0.9866071428571429,\n",
              "  'number_of_parameters': 86093572,\n",
              "  'model_size (MB)': 328})"
            ]
          },
          "metadata": {},
          "execution_count": 16
        }
      ]
    },
    {
      "cell_type": "markdown",
      "source": [
        "4. Average Prediction Time per Sample\n",
        "<br/>\n",
        "To determine the average prediction time, we will gather all the test images and store them in a single path. Next, we will make predictions on these images. The resulting predictions will be converted into a Pandas DataFrame, allowing us to perform further data analysis, specifically to calculate the average prediction time.\n"
      ],
      "metadata": {
        "id": "6ytVRWddTFLC"
      }
    },
    {
      "cell_type": "markdown",
      "source": [
        " - Get all test data paths"
      ],
      "metadata": {
        "id": "KcuKM61dhE4T"
      }
    },
    {
      "cell_type": "code",
      "source": [
        "print(f\"[INFO] Finding all filepaths ending with '.jpg' in directory: {test_dir}\")\n",
        "test_data_paths = list(Path(test_dir).glob(\"*/*.jpg\"))\n",
        "# len(test_data_paths), test_data_paths[:5]"
      ],
      "metadata": {
        "colab": {
          "base_uri": "https://localhost:8080/"
        },
        "id": "TvUE3sRoU8K2",
        "outputId": "671c7aad-9cac-49b2-c3bd-a2fa28a7ef19"
      },
      "execution_count": 17,
      "outputs": [
        {
          "output_type": "stream",
          "name": "stdout",
          "text": [
            "[INFO] Finding all filepaths ending with '.jpg' in directory: data/my_fav_foods/test\n"
          ]
        }
      ]
    },
    {
      "cell_type": "markdown",
      "source": [
        "- Predict and store in a dictionary\n",
        "<br/>\n",
        "To ensure an accurate measurement of prediction time without utilizing the processing power of the GPU, the device was set to 'cpu'. By doing so, we eliminated the advantage of using the GPU for faster computations.\n",
        "<br/>\n",
        "Therefore, by setting the device to 'cpu', we obtained reliable and comparable prediction times for evaluation purposes."
      ],
      "metadata": {
        "id": "Zg_hUWwfIswn"
      }
    },
    {
      "cell_type": "code",
      "source": [
        "from modular_codes.utils import pred_and_store\n",
        "\n",
        "effnetb0_test_pred_dicts = pred_and_store(paths=test_data_paths,\n",
        "                                          model=effnetb0,\n",
        "                                          transform=transforms_effnet_b0,\n",
        "                                          class_names=class_names,\n",
        "                                          device='cpu')\n",
        "\n",
        "\n",
        "vit_b_16_swag_test_pred_dicts = pred_and_store(paths=test_data_paths,\n",
        "                                               model=vit_b_16_swag,\n",
        "                                               transform=transforms_vit_b_16,\n",
        "                                               class_names=class_names,\n",
        "                                               device='cpu')"
      ],
      "metadata": {
        "id": "voYFwXsKVr7j",
        "colab": {
          "base_uri": "https://localhost:8080/",
          "height": 81,
          "referenced_widgets": [
            "30e305e2461a450cbbebe25e7b04f799",
            "7df9132af1124e98a2cedb6c224b17b2",
            "67d76363197b4b1fbd1f234d6b3c2d2b",
            "9d6ff3685df74482a0068a9f9977d054",
            "6374224828154e39a242c9e182a252b3",
            "2ce49a1fc9934fb4a500c8cde1396e92",
            "f7f7b9f15e73401bab143b0309e5b6cd",
            "68ca5a64d7204b48992d63d43c289f8f",
            "ffa4bbc685f64ac8a22af29b48bba1d7",
            "afedc36c0aad40db9015c0561446fe1f",
            "c8e23013d8c64ca88df799399c06f471",
            "c0603fea199f4532b3785909c90f186d",
            "69d6c9d7c68045a3a0d5c0c166576515",
            "1fa69d7a939a4c8d9d42ce30e2399b5b",
            "759f280b49844b5bad21e75315cdde38",
            "bbfca0f3bca34ac58383c979a8b26f27",
            "f0003abdd64c42cc9e305d1eefb20f59",
            "0e8e72603671401c9b334d01d53f3b84",
            "42f912935bb84a23b105d298179e50a9",
            "02315cfc2b0540dfb234d611df88b3d9",
            "0a5e817b22d5416cb15ba9c4b26cd599",
            "49a7074beb374561a8f414ea628c76e0"
          ]
        },
        "outputId": "91c373e8-bbd0-42c9-d721-35e3e54fa5dc"
      },
      "execution_count": 18,
      "outputs": [
        {
          "output_type": "display_data",
          "data": {
            "text/plain": [
              "  0%|          | 0/200 [00:00<?, ?it/s]"
            ],
            "application/vnd.jupyter.widget-view+json": {
              "version_major": 2,
              "version_minor": 0,
              "model_id": "30e305e2461a450cbbebe25e7b04f799"
            }
          },
          "metadata": {}
        },
        {
          "output_type": "display_data",
          "data": {
            "text/plain": [
              "  0%|          | 0/200 [00:00<?, ?it/s]"
            ],
            "application/vnd.jupyter.widget-view+json": {
              "version_major": 2,
              "version_minor": 0,
              "model_id": "c0603fea199f4532b3785909c90f186d"
            }
          },
          "metadata": {}
        }
      ]
    },
    {
      "cell_type": "markdown",
      "source": [
        "- Turn dictionaries into a DataFrame"
      ],
      "metadata": {
        "id": "pivqTBajIwgX"
      }
    },
    {
      "cell_type": "code",
      "source": [
        "import pandas as pd\n",
        "\n",
        "effnetb0_df = pd.DataFrame(effnetb0_test_pred_dicts)\n",
        "vit_b_16_swag_df = pd.DataFrame(vit_b_16_swag_test_pred_dicts)\n",
        "\n",
        "\n",
        "# save a copy of dataframe result to google drive for further analysis\n",
        "# Save effnetb0_df in a specific directory\n",
        "effnetb0_df.to_csv('/content/drive/MyDrive/Deep_learning/Best_Models/effnetb0_df.csv', index=True)\n",
        "\n",
        "# Save vit_b_16_swag_df in a specific directory\n",
        "vit_b_16_swag_df.to_csv('/content/drive/MyDrive/Deep_learning/Best_Models/vit_b_16_swag_df.csv', index=True)"
      ],
      "metadata": {
        "id": "-nxbOSDsWVau"
      },
      "execution_count": 19,
      "outputs": []
    },
    {
      "cell_type": "markdown",
      "source": [
        "- Add a column named 'model' and concatenate"
      ],
      "metadata": {
        "id": "ByQOj5nDJA94"
      }
    },
    {
      "cell_type": "code",
      "source": [
        "effnetb0_df['model'] = 'effnetb0'\n",
        "vit_b_16_swag_df['model'] = 'vit_b_16_swag_'\n",
        "\n",
        "# Concatenate the dataframes vertically\n",
        "df = pd.concat([effnetb0_df, vit_b_16_swag_df], ignore_index=True)\n",
        "\n",
        "# Move the \"model\" column to the first position\n",
        "cols = df.columns.tolist()\n",
        "cols = ['model'] + cols[:-1]\n",
        "df = df[cols]\n",
        "\n",
        "df.sample(5)"
      ],
      "metadata": {
        "colab": {
          "base_uri": "https://localhost:8080/",
          "height": 206
        },
        "id": "d_T7BSAY6yi7",
        "outputId": "b7ec08fc-418f-44fb-9064-31ead47fdd14"
      },
      "execution_count": 35,
      "outputs": [
        {
          "output_type": "execute_result",
          "data": {
            "text/plain": [
              "              model                                       image_path  \\\n",
              "21         effnetb0     data/my_fav_foods/test/ice_cream/1756584.jpg   \n",
              "196        effnetb0        data/my_fav_foods/test/donuts/2330100.jpg   \n",
              "328  vit_b_16_swag_  data/my_fav_foods/test/french_fries/2596038.jpg   \n",
              "206  vit_b_16_swag_      data/my_fav_foods/test/ice_cream/698179.jpg   \n",
              "67         effnetb0      data/my_fav_foods/test/cup_cakes/835932.jpg   \n",
              "\n",
              "       class_name  pred_prob    pred_class  time_for_pred  correct  \n",
              "21      ice_cream     0.8468     ice_cream         0.0423     True  \n",
              "196        donuts     0.9843        donuts         0.0421     True  \n",
              "328  french_fries     0.9996  french_fries         0.9339     True  \n",
              "206     ice_cream     0.9999     ice_cream         0.9017     True  \n",
              "67      cup_cakes     0.9921     cup_cakes         0.0389     True  "
            ],
            "text/html": [
              "\n",
              "  <div id=\"df-2ed93530-96a8-4c63-a80f-c40b8cab6e61\">\n",
              "    <div class=\"colab-df-container\">\n",
              "      <div>\n",
              "<style scoped>\n",
              "    .dataframe tbody tr th:only-of-type {\n",
              "        vertical-align: middle;\n",
              "    }\n",
              "\n",
              "    .dataframe tbody tr th {\n",
              "        vertical-align: top;\n",
              "    }\n",
              "\n",
              "    .dataframe thead th {\n",
              "        text-align: right;\n",
              "    }\n",
              "</style>\n",
              "<table border=\"1\" class=\"dataframe\">\n",
              "  <thead>\n",
              "    <tr style=\"text-align: right;\">\n",
              "      <th></th>\n",
              "      <th>model</th>\n",
              "      <th>image_path</th>\n",
              "      <th>class_name</th>\n",
              "      <th>pred_prob</th>\n",
              "      <th>pred_class</th>\n",
              "      <th>time_for_pred</th>\n",
              "      <th>correct</th>\n",
              "    </tr>\n",
              "  </thead>\n",
              "  <tbody>\n",
              "    <tr>\n",
              "      <th>21</th>\n",
              "      <td>effnetb0</td>\n",
              "      <td>data/my_fav_foods/test/ice_cream/1756584.jpg</td>\n",
              "      <td>ice_cream</td>\n",
              "      <td>0.8468</td>\n",
              "      <td>ice_cream</td>\n",
              "      <td>0.0423</td>\n",
              "      <td>True</td>\n",
              "    </tr>\n",
              "    <tr>\n",
              "      <th>196</th>\n",
              "      <td>effnetb0</td>\n",
              "      <td>data/my_fav_foods/test/donuts/2330100.jpg</td>\n",
              "      <td>donuts</td>\n",
              "      <td>0.9843</td>\n",
              "      <td>donuts</td>\n",
              "      <td>0.0421</td>\n",
              "      <td>True</td>\n",
              "    </tr>\n",
              "    <tr>\n",
              "      <th>328</th>\n",
              "      <td>vit_b_16_swag_</td>\n",
              "      <td>data/my_fav_foods/test/french_fries/2596038.jpg</td>\n",
              "      <td>french_fries</td>\n",
              "      <td>0.9996</td>\n",
              "      <td>french_fries</td>\n",
              "      <td>0.9339</td>\n",
              "      <td>True</td>\n",
              "    </tr>\n",
              "    <tr>\n",
              "      <th>206</th>\n",
              "      <td>vit_b_16_swag_</td>\n",
              "      <td>data/my_fav_foods/test/ice_cream/698179.jpg</td>\n",
              "      <td>ice_cream</td>\n",
              "      <td>0.9999</td>\n",
              "      <td>ice_cream</td>\n",
              "      <td>0.9017</td>\n",
              "      <td>True</td>\n",
              "    </tr>\n",
              "    <tr>\n",
              "      <th>67</th>\n",
              "      <td>effnetb0</td>\n",
              "      <td>data/my_fav_foods/test/cup_cakes/835932.jpg</td>\n",
              "      <td>cup_cakes</td>\n",
              "      <td>0.9921</td>\n",
              "      <td>cup_cakes</td>\n",
              "      <td>0.0389</td>\n",
              "      <td>True</td>\n",
              "    </tr>\n",
              "  </tbody>\n",
              "</table>\n",
              "</div>\n",
              "      <button class=\"colab-df-convert\" onclick=\"convertToInteractive('df-2ed93530-96a8-4c63-a80f-c40b8cab6e61')\"\n",
              "              title=\"Convert this dataframe to an interactive table.\"\n",
              "              style=\"display:none;\">\n",
              "        \n",
              "  <svg xmlns=\"http://www.w3.org/2000/svg\" height=\"24px\"viewBox=\"0 0 24 24\"\n",
              "       width=\"24px\">\n",
              "    <path d=\"M0 0h24v24H0V0z\" fill=\"none\"/>\n",
              "    <path d=\"M18.56 5.44l.94 2.06.94-2.06 2.06-.94-2.06-.94-.94-2.06-.94 2.06-2.06.94zm-11 1L8.5 8.5l.94-2.06 2.06-.94-2.06-.94L8.5 2.5l-.94 2.06-2.06.94zm10 10l.94 2.06.94-2.06 2.06-.94-2.06-.94-.94-2.06-.94 2.06-2.06.94z\"/><path d=\"M17.41 7.96l-1.37-1.37c-.4-.4-.92-.59-1.43-.59-.52 0-1.04.2-1.43.59L10.3 9.45l-7.72 7.72c-.78.78-.78 2.05 0 2.83L4 21.41c.39.39.9.59 1.41.59.51 0 1.02-.2 1.41-.59l7.78-7.78 2.81-2.81c.8-.78.8-2.07 0-2.86zM5.41 20L4 18.59l7.72-7.72 1.47 1.35L5.41 20z\"/>\n",
              "  </svg>\n",
              "      </button>\n",
              "      \n",
              "  <style>\n",
              "    .colab-df-container {\n",
              "      display:flex;\n",
              "      flex-wrap:wrap;\n",
              "      gap: 12px;\n",
              "    }\n",
              "\n",
              "    .colab-df-convert {\n",
              "      background-color: #E8F0FE;\n",
              "      border: none;\n",
              "      border-radius: 50%;\n",
              "      cursor: pointer;\n",
              "      display: none;\n",
              "      fill: #1967D2;\n",
              "      height: 32px;\n",
              "      padding: 0 0 0 0;\n",
              "      width: 32px;\n",
              "    }\n",
              "\n",
              "    .colab-df-convert:hover {\n",
              "      background-color: #E2EBFA;\n",
              "      box-shadow: 0px 1px 2px rgba(60, 64, 67, 0.3), 0px 1px 3px 1px rgba(60, 64, 67, 0.15);\n",
              "      fill: #174EA6;\n",
              "    }\n",
              "\n",
              "    [theme=dark] .colab-df-convert {\n",
              "      background-color: #3B4455;\n",
              "      fill: #D2E3FC;\n",
              "    }\n",
              "\n",
              "    [theme=dark] .colab-df-convert:hover {\n",
              "      background-color: #434B5C;\n",
              "      box-shadow: 0px 1px 3px 1px rgba(0, 0, 0, 0.15);\n",
              "      filter: drop-shadow(0px 1px 2px rgba(0, 0, 0, 0.3));\n",
              "      fill: #FFFFFF;\n",
              "    }\n",
              "  </style>\n",
              "\n",
              "      <script>\n",
              "        const buttonEl =\n",
              "          document.querySelector('#df-2ed93530-96a8-4c63-a80f-c40b8cab6e61 button.colab-df-convert');\n",
              "        buttonEl.style.display =\n",
              "          google.colab.kernel.accessAllowed ? 'block' : 'none';\n",
              "\n",
              "        async function convertToInteractive(key) {\n",
              "          const element = document.querySelector('#df-2ed93530-96a8-4c63-a80f-c40b8cab6e61');\n",
              "          const dataTable =\n",
              "            await google.colab.kernel.invokeFunction('convertToInteractive',\n",
              "                                                     [key], {});\n",
              "          if (!dataTable) return;\n",
              "\n",
              "          const docLinkHtml = 'Like what you see? Visit the ' +\n",
              "            '<a target=\"_blank\" href=https://colab.research.google.com/notebooks/data_table.ipynb>data table notebook</a>'\n",
              "            + ' to learn more about interactive tables.';\n",
              "          element.innerHTML = '';\n",
              "          dataTable['output_type'] = 'display_data';\n",
              "          await google.colab.output.renderOutput(dataTable, element);\n",
              "          const docLink = document.createElement('div');\n",
              "          docLink.innerHTML = docLinkHtml;\n",
              "          element.appendChild(docLink);\n",
              "        }\n",
              "      </script>\n",
              "    </div>\n",
              "  </div>\n",
              "  "
            ]
          },
          "metadata": {},
          "execution_count": 35
        }
      ]
    },
    {
      "cell_type": "markdown",
      "source": [
        "Now that we have stored all our useful information in a dataframe, we can perform further analysis and exploration at a later stage."
      ],
      "metadata": {
        "id": "o-6Tpt6iVrLY"
      }
    },
    {
      "cell_type": "markdown",
      "source": [
        "- Calculate the average speed"
      ],
      "metadata": {
        "id": "mdHlFRkFViFp"
      }
    },
    {
      "cell_type": "code",
      "source": [
        "effnetb0_avg_time_per_pred = round(effnetb0_df.time_for_pred.mean(), 4)\n",
        "vit_b_16_swag_df_avg_time_per_pred = round(vit_b_16_swag_df.time_for_pred.mean(), 4)\n",
        "print(effnetb0_avg_time_per_pred)\n",
        "print(vit_b_16_swag_df_avg_time_per_pred)\n",
        "\n",
        "# adding avg_speed  column to our dictionary\n",
        "effnetb0_stats['avg_speed'] = effnetb0_avg_time_per_pred\n",
        "vit_b_16_swag_stats['avg_speed'] = vit_b_16_swag_df_avg_time_per_pred\n",
        "print(effnetb0_stats)\n",
        "print(vit_b_16_swag_stats)"
      ],
      "metadata": {
        "id": "DyOI1CUTskIN",
        "colab": {
          "base_uri": "https://localhost:8080/"
        },
        "outputId": "4d69bd0d-2653-436f-a0dc-2e2d7c4f0a2e"
      },
      "execution_count": 36,
      "outputs": [
        {
          "output_type": "stream",
          "name": "stdout",
          "text": [
            "0.0425\n",
            "1.0228\n",
            "{'test_loss': 0.3077719637325832, 'test_acc': 0.9196428571428571, 'number_of_parameters': 4012672, 'model_size (MB)': 15, 'avg_speed': 0.0425}\n",
            "{'test_loss': 0.04172749366677765, 'test_acc': 0.9866071428571429, 'number_of_parameters': 86093572, 'model_size (MB)': 328, 'avg_speed': 1.0228}\n"
          ]
        }
      ]
    },
    {
      "cell_type": "markdown",
      "source": [
        "- Convert both dictionaries into Pandas DataFrames for better visualization and ease of analysis.\n",
        "\n"
      ],
      "metadata": {
        "id": "txK6LjFNMtoV"
      }
    },
    {
      "cell_type": "code",
      "source": [
        "# Turn stat dictionaries into DataFrame\n",
        "df_stats = pd.DataFrame([effnetb0_stats, vit_b_16_swag_stats])\n",
        "\n",
        "# Add column for model names\n",
        "df_stats[\"model\"] = [\"EffNetB0\", \"ViT_B_16_Swag\"]\n",
        "\n",
        "# Move \"model\" column to the first position\n",
        "cols = df_stats.columns.tolist()\n",
        "cols = [\"model\"] + cols[:-1]\n",
        "df_stats = df_stats[cols]\n",
        "\n",
        "# Convert accuracy to percentages\n",
        "df_stats[\"test_acc\"] = round(df_stats[\"test_acc\"] * 100, 2)\n",
        "\n",
        "df_stats"
      ],
      "metadata": {
        "colab": {
          "base_uri": "https://localhost:8080/",
          "height": 112
        },
        "id": "YzuI_ZScKE_v",
        "outputId": "d7906fb9-6a8f-4c13-f229-ed9797810313"
      },
      "execution_count": 37,
      "outputs": [
        {
          "output_type": "execute_result",
          "data": {
            "text/plain": [
              "           model  test_loss  test_acc  number_of_parameters  model_size (MB)  \\\n",
              "0       EffNetB0   0.307772     91.96               4012672               15   \n",
              "1  ViT_B_16_Swag   0.041727     98.66              86093572              328   \n",
              "\n",
              "   avg_speed  \n",
              "0     0.0425  \n",
              "1     1.0228  "
            ],
            "text/html": [
              "\n",
              "  <div id=\"df-f7760a4f-c2e4-42ab-aa7e-6fc6607c1d28\">\n",
              "    <div class=\"colab-df-container\">\n",
              "      <div>\n",
              "<style scoped>\n",
              "    .dataframe tbody tr th:only-of-type {\n",
              "        vertical-align: middle;\n",
              "    }\n",
              "\n",
              "    .dataframe tbody tr th {\n",
              "        vertical-align: top;\n",
              "    }\n",
              "\n",
              "    .dataframe thead th {\n",
              "        text-align: right;\n",
              "    }\n",
              "</style>\n",
              "<table border=\"1\" class=\"dataframe\">\n",
              "  <thead>\n",
              "    <tr style=\"text-align: right;\">\n",
              "      <th></th>\n",
              "      <th>model</th>\n",
              "      <th>test_loss</th>\n",
              "      <th>test_acc</th>\n",
              "      <th>number_of_parameters</th>\n",
              "      <th>model_size (MB)</th>\n",
              "      <th>avg_speed</th>\n",
              "    </tr>\n",
              "  </thead>\n",
              "  <tbody>\n",
              "    <tr>\n",
              "      <th>0</th>\n",
              "      <td>EffNetB0</td>\n",
              "      <td>0.307772</td>\n",
              "      <td>91.96</td>\n",
              "      <td>4012672</td>\n",
              "      <td>15</td>\n",
              "      <td>0.0425</td>\n",
              "    </tr>\n",
              "    <tr>\n",
              "      <th>1</th>\n",
              "      <td>ViT_B_16_Swag</td>\n",
              "      <td>0.041727</td>\n",
              "      <td>98.66</td>\n",
              "      <td>86093572</td>\n",
              "      <td>328</td>\n",
              "      <td>1.0228</td>\n",
              "    </tr>\n",
              "  </tbody>\n",
              "</table>\n",
              "</div>\n",
              "      <button class=\"colab-df-convert\" onclick=\"convertToInteractive('df-f7760a4f-c2e4-42ab-aa7e-6fc6607c1d28')\"\n",
              "              title=\"Convert this dataframe to an interactive table.\"\n",
              "              style=\"display:none;\">\n",
              "        \n",
              "  <svg xmlns=\"http://www.w3.org/2000/svg\" height=\"24px\"viewBox=\"0 0 24 24\"\n",
              "       width=\"24px\">\n",
              "    <path d=\"M0 0h24v24H0V0z\" fill=\"none\"/>\n",
              "    <path d=\"M18.56 5.44l.94 2.06.94-2.06 2.06-.94-2.06-.94-.94-2.06-.94 2.06-2.06.94zm-11 1L8.5 8.5l.94-2.06 2.06-.94-2.06-.94L8.5 2.5l-.94 2.06-2.06.94zm10 10l.94 2.06.94-2.06 2.06-.94-2.06-.94-.94-2.06-.94 2.06-2.06.94z\"/><path d=\"M17.41 7.96l-1.37-1.37c-.4-.4-.92-.59-1.43-.59-.52 0-1.04.2-1.43.59L10.3 9.45l-7.72 7.72c-.78.78-.78 2.05 0 2.83L4 21.41c.39.39.9.59 1.41.59.51 0 1.02-.2 1.41-.59l7.78-7.78 2.81-2.81c.8-.78.8-2.07 0-2.86zM5.41 20L4 18.59l7.72-7.72 1.47 1.35L5.41 20z\"/>\n",
              "  </svg>\n",
              "      </button>\n",
              "      \n",
              "  <style>\n",
              "    .colab-df-container {\n",
              "      display:flex;\n",
              "      flex-wrap:wrap;\n",
              "      gap: 12px;\n",
              "    }\n",
              "\n",
              "    .colab-df-convert {\n",
              "      background-color: #E8F0FE;\n",
              "      border: none;\n",
              "      border-radius: 50%;\n",
              "      cursor: pointer;\n",
              "      display: none;\n",
              "      fill: #1967D2;\n",
              "      height: 32px;\n",
              "      padding: 0 0 0 0;\n",
              "      width: 32px;\n",
              "    }\n",
              "\n",
              "    .colab-df-convert:hover {\n",
              "      background-color: #E2EBFA;\n",
              "      box-shadow: 0px 1px 2px rgba(60, 64, 67, 0.3), 0px 1px 3px 1px rgba(60, 64, 67, 0.15);\n",
              "      fill: #174EA6;\n",
              "    }\n",
              "\n",
              "    [theme=dark] .colab-df-convert {\n",
              "      background-color: #3B4455;\n",
              "      fill: #D2E3FC;\n",
              "    }\n",
              "\n",
              "    [theme=dark] .colab-df-convert:hover {\n",
              "      background-color: #434B5C;\n",
              "      box-shadow: 0px 1px 3px 1px rgba(0, 0, 0, 0.15);\n",
              "      filter: drop-shadow(0px 1px 2px rgba(0, 0, 0, 0.3));\n",
              "      fill: #FFFFFF;\n",
              "    }\n",
              "  </style>\n",
              "\n",
              "      <script>\n",
              "        const buttonEl =\n",
              "          document.querySelector('#df-f7760a4f-c2e4-42ab-aa7e-6fc6607c1d28 button.colab-df-convert');\n",
              "        buttonEl.style.display =\n",
              "          google.colab.kernel.accessAllowed ? 'block' : 'none';\n",
              "\n",
              "        async function convertToInteractive(key) {\n",
              "          const element = document.querySelector('#df-f7760a4f-c2e4-42ab-aa7e-6fc6607c1d28');\n",
              "          const dataTable =\n",
              "            await google.colab.kernel.invokeFunction('convertToInteractive',\n",
              "                                                     [key], {});\n",
              "          if (!dataTable) return;\n",
              "\n",
              "          const docLinkHtml = 'Like what you see? Visit the ' +\n",
              "            '<a target=\"_blank\" href=https://colab.research.google.com/notebooks/data_table.ipynb>data table notebook</a>'\n",
              "            + ' to learn more about interactive tables.';\n",
              "          element.innerHTML = '';\n",
              "          dataTable['output_type'] = 'display_data';\n",
              "          await google.colab.output.renderOutput(dataTable, element);\n",
              "          const docLink = document.createElement('div');\n",
              "          docLink.innerHTML = docLinkHtml;\n",
              "          element.appendChild(docLink);\n",
              "        }\n",
              "      </script>\n",
              "    </div>\n",
              "  </div>\n",
              "  "
            ]
          },
          "metadata": {},
          "execution_count": 37
        }
      ]
    },
    {
      "cell_type": "markdown",
      "source": [
        "Based on the results, the EffNetB0 model achieved a test accuracy of 91.96% with a test loss of 0.307772. It has a relatively smaller model size of 15 MB and a faster average speed of 0.0424 seconds per prediction. The number of parameters in the EffNetB0 model is 4,012,672.\n",
        "\n",
        "Considering our model deployment scenario, where we are using a phone to classify foods, it is important to prioritize computational efficiency. Since the majority of phone holders is likely to have phones with limited computational power, the EffNetB0 model is more appropriate. Its smaller model size and faster prediction speed make it suitable for deployment on devices with constrained resources.\n",
        "\n",
        "In contrast, the ViT_B_16_Swag model achieved a higher test accuracy of 98.66% with a lower test loss of 0.041728. However, it comes with a larger model size of 328 MB and a slower average speed of 0.9962 seconds per prediction. These factors make it less suitable for deployment on resource-constrained devices like phones.\n",
        "\n",
        "Therefore, considering the need for efficient model deployment on phones, we have selected the EffNetB0 model. Its smaller file size and faster prediction results make it a more suitable choice for our target audience, ensuring a smooth and efficient user experience on their devices."
      ],
      "metadata": {
        "id": "jZhyRqGHPxUQ"
      }
    },
    {
      "cell_type": "markdown",
      "source": [
        "\n",
        "\n",
        "---\n",
        "\n",
        "\n",
        "\n",
        "---\n",
        "\n"
      ],
      "metadata": {
        "id": "-pC7spLoBpnS"
      }
    },
    {
      "cell_type": "markdown",
      "source": [
        "# Gradio Demo App\n",
        "The structure of the demo we're going to create is as follows:\n",
        "\n",
        "1. Input: Image\n",
        "2. Transformation: Apply necessary transformations to the input image\n",
        "3. Prediction : Feed the transformed image into the model for prediction\n",
        "4. Output: Retrieve the prediction result, prediction probabilities, and the time taken for the prediction"
      ],
      "metadata": {
        "id": "6uxBdFL1Bqpx"
      }
    },
    {
      "cell_type": "markdown",
      "source": [
        "The gradio interface look like this."
      ],
      "metadata": {
        "id": "2Sk9ei3yadS9"
      }
    },
    {
      "cell_type": "markdown",
      "source": [
        "![gradio.png](data:image/png;base64,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)"
      ],
      "metadata": {
        "id": "37s9_3o4aSy0"
      }
    },
    {
      "cell_type": "markdown",
      "source": [
        "Install Gradio"
      ],
      "metadata": {
        "id": "sJmsNsqfxVyl"
      }
    },
    {
      "cell_type": "code",
      "source": [
        "# Import/install Gradio\n",
        "try:\n",
        "    import gradio as gr\n",
        "except:\n",
        "    !pip -q install gradio\n",
        "    import gradio as gr\n",
        "\n",
        "# print(f\"Gradio version: {gr.__version__}\")"
      ],
      "metadata": {
        "id": "XDOAr-XoBqHc",
        "colab": {
          "base_uri": "https://localhost:8080/"
        },
        "outputId": "ae7529f5-850c-43a0-ae98-aeb2fb8e5edc"
      },
      "execution_count": 23,
      "outputs": [
        {
          "output_type": "stream",
          "name": "stdout",
          "text": [
            "\u001b[2K     \u001b[90m━━━━━━━━━━━━━━━━━━━━━━━━━━━━━━━━━━━━━━━━\u001b[0m \u001b[32m19.7/19.7 MB\u001b[0m \u001b[31m77.7 MB/s\u001b[0m eta \u001b[36m0:00:00\u001b[0m\n",
            "\u001b[2K     \u001b[90m━━━━━━━━━━━━━━━━━━━━━━━━━━━━━━━━━━━━━━━━\u001b[0m \u001b[32m1.0/1.0 MB\u001b[0m \u001b[31m75.9 MB/s\u001b[0m eta \u001b[36m0:00:00\u001b[0m\n",
            "\u001b[2K     \u001b[90m━━━━━━━━━━━━━━━━━━━━━━━━━━━━━━━━━━━━━━━━\u001b[0m \u001b[32m57.0/57.0 kB\u001b[0m \u001b[31m7.9 MB/s\u001b[0m eta \u001b[36m0:00:00\u001b[0m\n",
            "\u001b[?25h  Preparing metadata (setup.py) ... \u001b[?25l\u001b[?25hdone\n",
            "\u001b[2K     \u001b[90m━━━━━━━━━━━━━━━━━━━━━━━━━━━━━━━━━━━━━━\u001b[0m \u001b[32m288.4/288.4 kB\u001b[0m \u001b[31m33.7 MB/s\u001b[0m eta \u001b[36m0:00:00\u001b[0m\n",
            "\u001b[2K     \u001b[90m━━━━━━━━━━━━━━━━━━━━━━━━━━━━━━━━━━━━━━━━\u001b[0m \u001b[32m75.4/75.4 kB\u001b[0m \u001b[31m9.7 MB/s\u001b[0m eta \u001b[36m0:00:00\u001b[0m\n",
            "\u001b[2K     \u001b[90m━━━━━━━━━━━━━━━━━━━━━━━━━━━━━━━━━━━━━━\u001b[0m \u001b[32m236.8/236.8 kB\u001b[0m \u001b[31m26.1 MB/s\u001b[0m eta \u001b[36m0:00:00\u001b[0m\n",
            "\u001b[2K     \u001b[90m━━━━━━━━━━━━━━━━━━━━━━━━━━━━━━━━━━━━━━━━\u001b[0m \u001b[32m50.5/50.5 kB\u001b[0m \u001b[31m6.3 MB/s\u001b[0m eta \u001b[36m0:00:00\u001b[0m\n",
            "\u001b[2K     \u001b[90m━━━━━━━━━━━━━━━━━━━━━━━━━━━━━━━━━━━━━━\u001b[0m \u001b[32m137.0/137.0 kB\u001b[0m \u001b[31m18.1 MB/s\u001b[0m eta \u001b[36m0:00:00\u001b[0m\n",
            "\u001b[2K     \u001b[90m━━━━━━━━━━━━━━━━━━━━━━━━━━━━━━━━━━━━━━━━\u001b[0m \u001b[32m45.7/45.7 kB\u001b[0m \u001b[31m5.8 MB/s\u001b[0m eta \u001b[36m0:00:00\u001b[0m\n",
            "\u001b[2K     \u001b[90m━━━━━━━━━━━━━━━━━━━━━━━━━━━━━━━━━━━━━━━━\u001b[0m \u001b[32m58.3/58.3 kB\u001b[0m \u001b[31m8.4 MB/s\u001b[0m eta \u001b[36m0:00:00\u001b[0m\n",
            "\u001b[2K     \u001b[90m━━━━━━━━━━━━━━━━━━━━━━━━━━━━━━━━━━━━━━\u001b[0m \u001b[32m129.9/129.9 kB\u001b[0m \u001b[31m17.7 MB/s\u001b[0m eta \u001b[36m0:00:00\u001b[0m\n",
            "\u001b[2K     \u001b[90m━━━━━━━━━━━━━━━━━━━━━━━━━━━━━━━━━━━━━━━━\u001b[0m \u001b[32m58.3/58.3 kB\u001b[0m \u001b[31m7.0 MB/s\u001b[0m eta \u001b[36m0:00:00\u001b[0m\n",
            "\u001b[2K     \u001b[90m━━━━━━━━━━━━━━━━━━━━━━━━━━━━━━━━━━━━━━\u001b[0m \u001b[32m114.5/114.5 kB\u001b[0m \u001b[31m13.6 MB/s\u001b[0m eta \u001b[36m0:00:00\u001b[0m\n",
            "\u001b[2K     \u001b[90m━━━━━━━━━━━━━━━━━━━━━━━━━━━━━━━━━━━━━━\u001b[0m \u001b[32m268.8/268.8 kB\u001b[0m \u001b[31m25.2 MB/s\u001b[0m eta \u001b[36m0:00:00\u001b[0m\n",
            "\u001b[2K     \u001b[90m━━━━━━━━━━━━━━━━━━━━━━━━━━━━━━━━━━━━━━\u001b[0m \u001b[32m149.6/149.6 kB\u001b[0m \u001b[31m18.4 MB/s\u001b[0m eta \u001b[36m0:00:00\u001b[0m\n",
            "\u001b[2K     \u001b[90m━━━━━━━━━━━━━━━━━━━━━━━━━━━━━━━━━━━━━━━━\u001b[0m \u001b[32m67.0/67.0 kB\u001b[0m \u001b[31m8.6 MB/s\u001b[0m eta \u001b[36m0:00:00\u001b[0m\n",
            "\u001b[2K     \u001b[90m━━━━━━━━━━━━━━━━━━━━━━━━━━━━━━━━━━━━━━━━\u001b[0m \u001b[32m72.5/72.5 kB\u001b[0m \u001b[31m9.7 MB/s\u001b[0m eta \u001b[36m0:00:00\u001b[0m\n",
            "\u001b[?25h  Building wheel for ffmpy (setup.py) ... \u001b[?25l\u001b[?25hdone\n"
          ]
        }
      ]
    },
    {
      "cell_type": "markdown",
      "source": [
        "Creating a function to map our inputs and outputs\n",
        "<br/>\n",
        "Our function will enables us to go from inputs -> transform -> ML model -> outputs."
      ],
      "metadata": {
        "id": "HZi_NVgPB4_8"
      }
    },
    {
      "cell_type": "code",
      "source": [
        "from typing import Tuple, Dict\n",
        "\n",
        "def predict(img) -> Tuple[Dict, float]:\n",
        "    \"\"\"Transforms and performs a prediction on img and returns prediction and time taken.\n",
        "    \"\"\"\n",
        "    # Start the timer\n",
        "    start_time = timer()\n",
        "\n",
        "    # Transform the target image and add a batch dimension\n",
        "    img = transforms_effnet_b0(img).unsqueeze(0)\n",
        "\n",
        "    # Put model into evaluation mode and turn on inference mode\n",
        "    effnetb0.eval()\n",
        "    with torch.inference_mode():\n",
        "        # Pass the transformed image through the model and turn the prediction logits into prediction probabilities\n",
        "        pred_probs = torch.softmax(effnetb0(img), dim=1)\n",
        "\n",
        "    # Create a prediction label and prediction probability dictionary for each prediction class (this is the required format for Gradio's output parameter)\n",
        "    pred_labels_and_probs = {class_names[i]: float(pred_probs[0][i]) for i in range(len(class_names))}\n",
        "\n",
        "    # Calculate the prediction time\n",
        "    end_time = timer()\n",
        "    pred_time = end_time - start_time\n",
        "\n",
        "    # Return the prediction dictionary and prediction time\n",
        "    return pred_labels_and_probs, pred_time"
      ],
      "metadata": {
        "id": "lTdRLp9_Bu5y"
      },
      "execution_count": 24,
      "outputs": []
    },
    {
      "cell_type": "markdown",
      "source": [
        "Test run our function on randomly selected images from test data"
      ],
      "metadata": {
        "id": "hlAuJxvLyK4h"
      }
    },
    {
      "cell_type": "code",
      "source": [
        "import random\n",
        "from PIL import Image\n",
        "from timeit import default_timer as timer\n",
        "\n",
        "# Get a list of all test image filepaths\n",
        "test_data_paths = list(Path(test_dir).glob(\"*/*.jpg\"))\n",
        "\n",
        "# Randomly select a test image path\n",
        "random_image_path = random.sample(test_data_paths, k=1)[0]\n",
        "\n",
        "# Open the target image\n",
        "image = Image.open(random_image_path)\n",
        "print(f\"[INFO] Predicting on image at path: {random_image_path}\\n\")\n",
        "\n",
        "# Predict on the target image and print out the outputs\n",
        "pred_dict, pred_time = predict(img=image)\n",
        "print(f\"Prediction label and probability dictionary: \\n{pred_dict}\")\n",
        "print(f\"Prediction time: {pred_time} seconds\")\n",
        "image.resize((250, 250))"
      ],
      "metadata": {
        "colab": {
          "base_uri": "https://localhost:8080/",
          "height": 354
        },
        "id": "DLdjfLocDI_z",
        "outputId": "e8dc264e-b3e9-4ad5-dc7b-a9b030cd84f1"
      },
      "execution_count": 25,
      "outputs": [
        {
          "output_type": "stream",
          "name": "stdout",
          "text": [
            "[INFO] Predicting on image at path: data/my_fav_foods/test/french_fries/3293202.jpg\n",
            "\n",
            "Prediction label and probability dictionary: \n",
            "{'cup_cakes': 0.0003575534501578659, 'donuts': 0.00026132960920222104, 'french_fries': 0.9989250302314758, 'ice_cream': 0.0004560428496915847}\n",
            "Prediction time: 0.04335417300012523 seconds\n"
          ]
        },
        {
          "output_type": "execute_result",
          "data": {
            "text/plain": [
              "<PIL.Image.Image image mode=RGB size=250x250 at 0x7F154D90E950>"
            ],
            "image/png": "[encoded data removed]"
          },
          "metadata": {},
          "execution_count": 25
        }
      ]
    },
    {
      "cell_type": "markdown",
      "source": [
        "We can replicate this in the gradio.Interface() class with the following parameters:\n",
        "\n",
        "- fn - a Python function to map inputs to outputs, in our case, we'll use our predict() function.\n",
        "- inputs - the input to our interface, such as an image using gradio.Image() or \"image\".\n",
        "- outputs - the output of our interface once the inputs have gone through the fn, such as a label using\n",
        "     <br/>\n",
        "  > gradio.Label() --> (for our model's predicted labels) or number using\n",
        "    <br/>\n",
        "  > gradio.Number() --> (for our model's prediction time).\n",
        "\n",
        "Note: Our predict function has two return values, we will need two output variables as well."
      ],
      "metadata": {
        "id": "OMmjgYs0xwX3"
      }
    },
    {
      "cell_type": "code",
      "source": [
        "import gradio as gr\n",
        "\n",
        "# Create a list of example inputs to our Gradio demo\n",
        "example_list = [[str(filepath)] for filepath in random.sample(test_data_paths, k=3)]\n",
        "\n",
        "# Create title, description and article strings\n",
        "title = \"Food Classifier\"\n",
        "description = \"An EfficientNetB0 feature extractor computer vision model to classify images of French_fries, Cup_cakes, Ice_Cream, and Donuts.\"\n",
        "article = \"Created at google collab. Documentation at https://medium.com/me/stories/public, Code repository at https://github.com/Alyxx-The-Sniper/CNN \"\n",
        "\n",
        "\n",
        "# Create the Gradio demo\n",
        "demo = gr.Interface(fn=predict, # mapping function from input to output\n",
        "                    inputs=gr.Image(type=\"pil\"), # what are the inputs?\n",
        "                    outputs=[gr.Label(num_top_classes=4, label=\"Predictions\"), # what are the outputs?\n",
        "                             gr.Number(label=\"Prediction time (s)\")], # our fn has two outputs, therefore we have two outputs!!\n",
        "                    examples=example_list,\n",
        "                    title=title,\n",
        "                    description=description,\n",
        "                    article=article)\n",
        "\n",
        "# Launch the demo!\n",
        "demo.launch(debug=False, # print errors locally?\n",
        "            share=False) # generate a publically shareable URL?"
      ],
      "metadata": {
        "colab": {
          "base_uri": "https://localhost:8080/",
          "height": 617
        },
        "id": "HRRtzB2UE7xM",
        "outputId": "2ef838be-5ae7-4155-ec18-d6ca41f244e3"
      },
      "execution_count": 26,
      "outputs": [
        {
          "output_type": "stream",
          "name": "stdout",
          "text": [
            "Colab notebook detected. To show errors in colab notebook, set debug=True in launch()\n",
            "Note: opening Chrome Inspector may crash demo inside Colab notebooks.\n",
            "\n",
            "To create a public link, set `share=True` in `launch()`.\n"
          ]
        },
        {
          "output_type": "display_data",
          "data": {
            "text/plain": [
              "<IPython.core.display.Javascript object>"
            ],
            "application/javascript": [
              "(async (port, path, width, height, cache, element) => {\n",
              "                        if (!google.colab.kernel.accessAllowed && !cache) {\n",
              "                            return;\n",
              "                        }\n",
              "                        element.appendChild(document.createTextNode(''));\n",
              "                        const url = await google.colab.kernel.proxyPort(port, {cache});\n",
              "\n",
              "                        const external_link = document.createElement('div');\n",
              "                        external_link.innerHTML = `\n",
              "                            <div style=\"font-family: monospace; margin-bottom: 0.5rem\">\n",
              "                                Running on <a href=${new URL(path, url).toString()} target=\"_blank\">\n",
              "                                    https://localhost:${port}${path}\n",
              "                                </a>\n",
              "                            </div>\n",
              "                        `;\n",
              "                        element.appendChild(external_link);\n",
              "\n",
              "                        const iframe = document.createElement('iframe');\n",
              "                        iframe.src = new URL(path, url).toString();\n",
              "                        iframe.height = height;\n",
              "                        iframe.allow = \"autoplay; camera; microphone; clipboard-read; clipboard-write;\"\n",
              "                        iframe.width = width;\n",
              "                        iframe.style.border = 0;\n",
              "                        element.appendChild(iframe);\n",
              "                    })(7860, \"/\", \"100%\", 500, false, window.element)"
            ]
          },
          "metadata": {}
        },
        {
          "output_type": "execute_result",
          "data": {
            "text/plain": []
          },
          "metadata": {},
          "execution_count": 26
        }
      ]
    },
    {
      "cell_type": "markdown",
      "source": [
        "# Files Preparation For Uploading In HuggingFace\n",
        "\n",
        "In order to upload our demo Gradio app, we need to organize all the relevant files and directories into a single directory.\n",
        "\n"
      ],
      "metadata": {
        "id": "ex6m0T-MJesX"
      }
    },
    {
      "cell_type": "code",
      "source": [
        "## demos/\n",
        "## └── foodvision_classification/\n",
        "##       ├── 09_pretrained_effnetb2_feature_extractor_pizza_steak_sushi_20_percent.pth\n",
        "##       ├── app.py\n",
        "##       ├── examples/\n",
        "##       │   ├── example_1.jpg\n",
        "##       │   ├── example_2.jpg\n",
        "##       │   └── example_3.jpg\n",
        "##       ├── model.py\n",
        "##       └── requirements.txt\\"
      ],
      "metadata": {
        "id": "C93GEOgPOnpL"
      },
      "execution_count": 27,
      "outputs": []
    },
    {
      "cell_type": "markdown",
      "source": [
        "#### **Set up the food_classification directories**\n",
        "1. Create the `demos` directory.\n",
        "2. Within the `demos` directory, create the `food_classification` subdirectory.\n",
        "3. Inside the `food_classification` subdirectory, create the `examples` directory.\n",
        "4. Place three sample images into the `examples` directory.\n",
        "5. Move the pretrained model file to the `food_classification` directory."
      ],
      "metadata": {
        "id": "N8ITx9lt4cZY"
      }
    },
    {
      "cell_type": "code",
      "source": [
        "import shutil\n",
        "from pathlib import Path\n",
        "\n",
        "# Create path\n",
        "food_classification_path = Path(\"demos/food_classification/\")\n",
        "\n",
        "# 0. Remove files that might already exist there and create new directory\n",
        "if food_classification_path.exists():\n",
        "    shutil.rmtree(food_classification_path)\n",
        "food_classification_path.mkdir(parents=True, exist_ok=True)\n",
        "\n",
        "# 1. Create an examples directory\n",
        "food_image_examples_path = food_classification_path / \"examples\"\n",
        "food_image_examples_path.mkdir(parents=True, exist_ok=True)\n",
        "\n",
        "# 2. Collect three test dataset image paths\n",
        "food_image_examples = [Path('data/my_fav_foods/test/french_fries/2740844.jpg'),\n",
        "                       Path('data/my_fav_foods/test/ice_cream/387707.jpg'),\n",
        "                       Path('data/my_fav_foods/test/cup_cakes/529481.jpg')]\n",
        "\n",
        "# 3. Copy the three images to the examples directory\n",
        "for example in food_image_examples:\n",
        "    destination = food_image_examples_path / example.name\n",
        "    print(f\"[INFO] Copying {example} to {destination}\")\n",
        "    shutil.copy2(src=example, dst=destination)\n",
        "\n",
        "# 4 move model\n",
        "shutil.move('/content/models/effnetb0_data20_10epoch.pth',\n",
        "            '/content/demos/food_classification/')"
      ],
      "metadata": {
        "colab": {
          "base_uri": "https://localhost:8080/",
          "height": 88
        },
        "id": "xVqMMtkwFWpf",
        "outputId": "465d6742-a5e0-40e8-ca57-6c2734e21355"
      },
      "execution_count": 28,
      "outputs": [
        {
          "output_type": "stream",
          "name": "stdout",
          "text": [
            "[INFO] Copying data/my_fav_foods/test/french_fries/2740844.jpg to demos/food_classification/examples/2740844.jpg\n",
            "[INFO] Copying data/my_fav_foods/test/ice_cream/387707.jpg to demos/food_classification/examples/387707.jpg\n",
            "[INFO] Copying data/my_fav_foods/test/cup_cakes/529481.jpg to demos/food_classification/examples/529481.jpg\n"
          ]
        },
        {
          "output_type": "execute_result",
          "data": {
            "text/plain": [
              "'/content/demos/food_classification/effnetb0_data20_10epoch.pth'"
            ],
            "application/vnd.google.colaboratory.intrinsic+json": {
              "type": "string"
            }
          },
          "metadata": {},
          "execution_count": 28
        }
      ]
    },
    {
      "cell_type": "markdown",
      "source": [
        "#### **model.py**"
      ],
      "metadata": {
        "id": "8qsNMXmH5-Iq"
      }
    },
    {
      "cell_type": "code",
      "source": [
        "# 5 Turning our EffNetB0 model into a Python script (model.py)\n",
        "\n",
        "%%writefile demos/food_classification/model.py\n",
        "import torchvision\n",
        "from torch import nn\n",
        "\n",
        "def create_effnetb0(num_classes:int=4, seed:int=42):\n",
        "    # 1. Get the base mdoel with pretrained weights and send to target device\n",
        "    weights = torchvision.models.EfficientNet_B0_Weights.DEFAULT\n",
        "    transforms = weights.transforms()\n",
        "    model = torchvision.models.efficientnet_b0(weights=weights)#.to(device)\n",
        "\n",
        "    # 2. Freeze the base model layers\n",
        "    for param in model.features.parameters():\n",
        "        param.requires_grad = False\n",
        "\n",
        "    # 3. Change the classifier head\n",
        "    model.classifier = nn.Sequential(\n",
        "        nn.Dropout(p=0.2),\n",
        "        nn.Linear(in_features=1280, out_features=num_classes)\n",
        "    )#.to(device)\n",
        "\n",
        "    # 5. Give the model a name\n",
        "    model.name = \"effnetb0\"\n",
        "    print(f\"[INFO] Created new {model.name} model.\")\n",
        "    return model, transforms"
      ],
      "metadata": {
        "colab": {
          "base_uri": "https://localhost:8080/"
        },
        "id": "oa1ey47LWFlu",
        "outputId": "56fbe6bf-91f9-4ab8-e957-0df730ff67f9"
      },
      "execution_count": 29,
      "outputs": [
        {
          "output_type": "stream",
          "name": "stdout",
          "text": [
            "Writing demos/food_classification/model.py\n"
          ]
        }
      ]
    },
    {
      "cell_type": "markdown",
      "source": [
        "#### **app.py**\n",
        "\n",
        "\n"
      ],
      "metadata": {
        "id": "C0Iado3y6PhM"
      }
    },
    {
      "cell_type": "code",
      "source": [
        "# 6. Turning our FoodVision Mini Gradio app into a Python script (app.py)\n",
        "\n",
        "%%writefile demos/food_classification/app.py\n",
        "### 1. Imports and class names setup ###\n",
        "import gradio as gr\n",
        "import os\n",
        "import torch\n",
        "\n",
        "from model import create_effnetb0\n",
        "from timeit import default_timer as timer\n",
        "from typing import Tuple, Dict\n",
        "\n",
        "# Setup class names\n",
        "class_names = ['cup_cakes', 'donuts', 'french_fries', 'ice_cream']\n",
        "\n",
        "### 2. Model and transforms preparation ###\n",
        "\n",
        "# Create EffNetB0 model\n",
        "effnetb0, effnetb0_transforms = create_effnetb0()\n",
        "\n",
        "# Load saved weights\n",
        "effnetb0.load_state_dict(\n",
        "    torch.load(\n",
        "        f=\"effnetb0_data20_10epoch.pth\",\n",
        "        map_location=torch.device(\"cpu\"),  # load to CPU\n",
        "    )\n",
        ")\n",
        "\n",
        "\n",
        "### 3. Predict function ###\n",
        "\n",
        "# Create predict function\n",
        "def predict(img) -> Tuple[Dict, float]:\n",
        "    \"\"\"Transforms and performs a prediction on img and returns prediction and time taken.\n",
        "    \"\"\"\n",
        "    # Start the timer\n",
        "    start_time = timer()\n",
        "\n",
        "    # Transform the target image and add a batch dimension\n",
        "    img = effnetb0_transforms(img).unsqueeze(0)\n",
        "\n",
        "    # Put model into evaluation mode and turn on inference mode\n",
        "    effnetb0.eval()\n",
        "    with torch.inference_mode():\n",
        "        # Pass the transformed image through the model and turn the prediction logits into prediction probabilities\n",
        "        pred_probs = torch.softmax(effnetb0(img), dim=1)\n",
        "\n",
        "    # Create a prediction label and prediction probability dictionary for each prediction class (this is the required format for Gradio's output parameter)\n",
        "    pred_labels_and_probs = {class_names[i]: float(pred_probs[0][i]) for i in range(len(class_names))}\n",
        "\n",
        "    # Calculate the prediction time\n",
        "    pred_time = round(timer() - start_time, 5)\n",
        "\n",
        "    # Return the prediction dictionary and prediction time\n",
        "    return pred_labels_and_probs, pred_time\n",
        "\n",
        "\n",
        "### 4. Gradio app ###\n",
        "\n",
        "# Create title, description and article strings\n",
        "title = \"Food Classifier\"\n",
        "description = \"An EfficientNetB0 feature extractor computer vision model to classify images of French_fries, Cup_cakes, Ice_Cream, and Donuts.\"\n",
        "article = \"Created at google collab. Documentation at https://medium.com/me/stories/public, Code repository at https://github.com/Alyxx-The-Sniper/CNN \"\n",
        "\n",
        "# Create examples list from \"examples/\" directory\n",
        "example_list = [[\"examples/\" + example] for example in os.listdir(\"examples\")]\n",
        "\n",
        "# Create the Gradio demo\n",
        "demo = gr.Interface(fn=predict,  # mapping function from input to output\n",
        "                    inputs=gr.Image(type=\"pil\"),  # what are the inputs?\n",
        "                    outputs=[gr.Label(num_top_classes=4, label=\"Predictions\"),  # what are the outputs?\n",
        "                             gr.Number(label=\"Prediction time (s)\")],\n",
        "                    # our fn has two outputs, therefore we have two outputs\n",
        "                    # Create examples list from \"examples/\" directory\n",
        "                    examples=example_list,\n",
        "                    title=title,\n",
        "                    description=description,\n",
        "                    article=article)\n",
        "\n",
        "# Launch the demo!\n",
        "demo.launch()\n"
      ],
      "metadata": {
        "colab": {
          "base_uri": "https://localhost:8080/"
        },
        "id": "KD8kPxpNW1PC",
        "outputId": "a52b8907-8a7a-4b06-8bd6-e36374a58dbd"
      },
      "execution_count": 30,
      "outputs": [
        {
          "output_type": "stream",
          "name": "stdout",
          "text": [
            "Writing demos/food_classification/app.py\n"
          ]
        }
      ]
    },
    {
      "cell_type": "markdown",
      "source": [
        "#### **requirement.txt**"
      ],
      "metadata": {
        "id": "VK3J2lR36sMO"
      }
    },
    {
      "cell_type": "code",
      "source": [
        "%%writefile demos/food_classification/requirements.txt\n",
        "torch==1.12.0\n",
        "torchvision==0.13.0\n",
        "gradio==3.1.4"
      ],
      "metadata": {
        "colab": {
          "base_uri": "https://localhost:8080/"
        },
        "id": "P7SVXMyWePu1",
        "outputId": "ffe66c8d-f676-4474-b6b2-c29c20f44809"
      },
      "execution_count": 31,
      "outputs": [
        {
          "output_type": "stream",
          "name": "stdout",
          "text": [
            "Writing demos/food_classification/requirements.txt\n"
          ]
        }
      ]
    },
    {
      "cell_type": "markdown",
      "source": [
        "Check directories"
      ],
      "metadata": {
        "id": "BOh0vf0e1zvQ"
      }
    },
    {
      "cell_type": "code",
      "source": [
        "!ls demos/food_classification"
      ],
      "metadata": {
        "colab": {
          "base_uri": "https://localhost:8080/"
        },
        "id": "cj3-FlvaeQzd",
        "outputId": "536f6756-d4b2-4505-d7a2-e47bcb649c46"
      },
      "execution_count": 32,
      "outputs": [
        {
          "output_type": "stream",
          "name": "stdout",
          "text": [
            "app.py\teffnetb0_data20_10epoch.pth  examples  model.py  requirements.txt\n"
          ]
        }
      ]
    },
    {
      "cell_type": "markdown",
      "source": [
        "#### **ZIP and Download**\n"
      ],
      "metadata": {
        "id": "HinzzLUigvi6"
      }
    },
    {
      "cell_type": "code",
      "source": [
        "import shutil\n",
        "from google.colab import files\n",
        "\n",
        "# Specify the source directory\n",
        "source_dir = '/content/demos/food_classification'\n",
        "\n",
        "# Specify the destination zip file path\n",
        "zip_file_path = '/content/demos/food_classification'\n",
        "\n",
        "# Create a zip file containing all files in the directory\n",
        "shutil.make_archive(zip_file_path, 'zip', source_dir)\n",
        "\n",
        "# Download the zip file\n",
        "files.download(zip_file_path + '.zip')"
      ],
      "metadata": {
        "id": "RWjNPDCdMe4Q",
        "colab": {
          "base_uri": "https://localhost:8080/",
          "height": 17
        },
        "outputId": "dc92cde5-304f-47e8-8e70-5535f602a4cd"
      },
      "execution_count": 33,
      "outputs": [
        {
          "output_type": "display_data",
          "data": {
            "text/plain": [
              "<IPython.core.display.Javascript object>"
            ],
            "application/javascript": [
              "\n",
              "    async function download(id, filename, size) {\n",
              "      if (!google.colab.kernel.accessAllowed) {\n",
              "        return;\n",
              "      }\n",
              "      const div = document.createElement('div');\n",
              "      const label = document.createElement('label');\n",
              "      label.textContent = `Downloading \"${filename}\": `;\n",
              "      div.appendChild(label);\n",
              "      const progress = document.createElement('progress');\n",
              "      progress.max = size;\n",
              "      div.appendChild(progress);\n",
              "      document.body.appendChild(div);\n",
              "\n",
              "      const buffers = [];\n",
              "      let downloaded = 0;\n",
              "\n",
              "      const channel = await google.colab.kernel.comms.open(id);\n",
              "      // Send a message to notify the kernel that we're ready.\n",
              "      channel.send({})\n",
              "\n",
              "      for await (const message of channel.messages) {\n",
              "        // Send a message to notify the kernel that we're ready.\n",
              "        channel.send({})\n",
              "        if (message.buffers) {\n",
              "          for (const buffer of message.buffers) {\n",
              "            buffers.push(buffer);\n",
              "            downloaded += buffer.byteLength;\n",
              "            progress.value = downloaded;\n",
              "          }\n",
              "        }\n",
              "      }\n",
              "      const blob = new Blob(buffers, {type: 'application/binary'});\n",
              "      const a = document.createElement('a');\n",
              "      a.href = window.URL.createObjectURL(blob);\n",
              "      a.download = filename;\n",
              "      div.appendChild(a);\n",
              "      a.click();\n",
              "      div.remove();\n",
              "    }\n",
              "  "
            ]
          },
          "metadata": {}
        },
        {
          "output_type": "display_data",
          "data": {
            "text/plain": [
              "<IPython.core.display.Javascript object>"
            ],
            "application/javascript": [
              "download(\"download_fac8d15d-0538-4cdb-9801-6a479c1ce7e9\", \"food_classification.zip\", 15226997)"
            ]
          },
          "metadata": {}
        }
      ]
    },
    {
      "cell_type": "markdown",
      "source": [
        "# **Code Test Run**\n",
        "\n",
        "Testing our code can be done by packaging it along with the necessary files and running the `app.py` file in a Python interactive environment such as VSCode or PyCharm. This approach allows us to conveniently debug and manage our code while ensuring that all dependencies and configurations are properly set up. By executing the `app.py` file in the chosen Python environment, we can observe the behavior of our application, identify any potential issues, and make necessary adjustments to improve its functionality.\n",
        "\n"
      ],
      "metadata": {
        "id": "1O6k6OhMC7hh"
      }
    },
    {
      "cell_type": "markdown",
      "source": [
        "![py.png](data:image/png;base64,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)"
      ],
      "metadata": {
        "id": "7PTur3pqGaT3"
      }
    },
    {
      "cell_type": "markdown",
      "source": [
        "# **Uploading File to HuggingFace**"
      ],
      "metadata": {
        "id": "ynXf4ArDKYJX"
      }
    },
    {
      "cell_type": "markdown",
      "source": [
        "To publish our Gradio app on Hugging Face, follow these steps:\n",
        "\n",
        "1. Log in to our Hugging Face account.\n",
        "2. Go to the \"Spaces\" section and click on \"Add New Space\".\n",
        "3. Provide a suitable name and description for the repository that accurately represents the Gradio app.\n",
        "4. Select \"Gradio\" as the space SDK, and click on \"Create Space\".\n",
        "5. Once the space is created, we will be redirected to a new page. Clone the repository by copying the code provided.\n",
        "6. Go to the directory where we you have downloaded the \"food_classification\" directory. Copy or move all the files from the \"food_classification\" directory into the newly created repository by Hugging Face.\n",
        "7. Open a bash terminal and navigate to the cloned repository on your local drive. (using 'cd' command)\n",
        "8. Perform the following Git commands in the terminal:\n",
        "   - Run `git status` to check the status of the repository.\n",
        "   - Run `git add *` to stage all the files for commit.\n",
        "   - Run `git commit -m 'adding files'` to commit the changes with a descriptive message.\n",
        "   - Run `git push` to push the committed changes to your Hugging Face repository.\n",
        "9. Wait for approximately 5-15 minutes for the app to function normally on your Hugging Face account.\n",
        "\n",
        "By following these steps, you will successfully publish your Gradio app on Hugging Face, making it accessible to others in the Hugging Face community.\n"
      ],
      "metadata": {
        "id": "9gz3peyuGjrY"
      }
    },
    {
      "cell_type": "markdown",
      "source": [
        "Check this link for our deployed Machine Learning App."
      ],
      "metadata": {
        "id": "B0Q5CTSsK8v8"
      }
    },
    {
      "cell_type": "markdown",
      "source": [
        "[Food_Classification_V0](https://huggingface.co/spaces/kaiku03/Food_Classification_V0)"
      ],
      "metadata": {
        "id": "F-KORpyTLEnE"
      }
    },
    {
      "cell_type": "markdown",
      "source": [
        "\n",
        "\n",
        "---\n",
        "\n",
        "\n",
        "\n",
        "---\n",
        "\n"
      ],
      "metadata": {
        "id": "0qGmTBHbLQ8P"
      }
    }
  ],
  "metadata": {
    "accelerator": "GPU",
    "colab": {
      "provenance": [],
      "gpuType": "V100",
      "machine_shape": "hm",
      "toc_visible": true,
      "mount_file_id": "1riHJ5szjbIdGfklBkG3KH1aVDTHo0_GR",
      "authorship_tag": "ABX9TyMj18s5qUyyXQfwGDUKER+3",
      "include_colab_link": true
    },
    "kernelspec": {
      "display_name": "Python 3",
      "name": "python3"
    },
    "language_info": {
      "name": "python"
    },
    "widgets": {
      "application/vnd.jupyter.widget-state+json": {
        "6d3df3956c3d49e482d6bc3f14a0fef5": {
          "model_module": "@jupyter-widgets/controls",
          "model_name": "HBoxModel",
          "model_module_version": "1.5.0",
          "state": {
            "_dom_classes": [],
            "_model_module": "@jupyter-widgets/controls",
            "_model_module_version": "1.5.0",
            "_model_name": "HBoxModel",
            "_view_count": null,
            "_view_module": "@jupyter-widgets/controls",
            "_view_module_version": "1.5.0",
            "_view_name": "HBoxView",
            "box_style": "",
            "children": [
              "IPY_MODEL_34d121821c0b43f18e5f54e7e74c0ddd",
              "IPY_MODEL_b0a5a596fe454ae48e46c636a38199f9",
              "IPY_MODEL_6824a22af83d401e857faf08a00cae6a"
            ],
            "layout": "IPY_MODEL_a8784e8c41cd486495f222d59fc957f1"
          }
        },
        "34d121821c0b43f18e5f54e7e74c0ddd": {
          "model_module": "@jupyter-widgets/controls",
          "model_name": "HTMLModel",
          "model_module_version": "1.5.0",
          "state": {
            "_dom_classes": [],
            "_model_module": "@jupyter-widgets/controls",
            "_model_module_version": "1.5.0",
            "_model_name": "HTMLModel",
            "_view_count": null,
            "_view_module": "@jupyter-widgets/controls",
            "_view_module_version": "1.5.0",
            "_view_name": "HTMLView",
            "description": "",
            "description_tooltip": null,
            "layout": "IPY_MODEL_8b0e179de06040fdb55c91ecf6e86a65",
            "placeholder": "​",
            "style": "IPY_MODEL_5921f0cdae1e4113b1bf55c251cc021e",
            "value": "100%"
          }
        },
        "b0a5a596fe454ae48e46c636a38199f9": {
          "model_module": "@jupyter-widgets/controls",
          "model_name": "FloatProgressModel",
          "model_module_version": "1.5.0",
          "state": {
            "_dom_classes": [],
            "_model_module": "@jupyter-widgets/controls",
            "_model_module_version": "1.5.0",
            "_model_name": "FloatProgressModel",
            "_view_count": null,
            "_view_module": "@jupyter-widgets/controls",
            "_view_module_version": "1.5.0",
            "_view_name": "ProgressView",
            "bar_style": "success",
            "description": "",
            "description_tooltip": null,
            "layout": "IPY_MODEL_e3ace39bd0884042b3e51a669a58c21e",
            "max": 10,
            "min": 0,
            "orientation": "horizontal",
            "style": "IPY_MODEL_a060e3019ab54e829d710215eccb7892",
            "value": 10
          }
        },
        "6824a22af83d401e857faf08a00cae6a": {
          "model_module": "@jupyter-widgets/controls",
          "model_name": "HTMLModel",
          "model_module_version": "1.5.0",
          "state": {
            "_dom_classes": [],
            "_model_module": "@jupyter-widgets/controls",
            "_model_module_version": "1.5.0",
            "_model_name": "HTMLModel",
            "_view_count": null,
            "_view_module": "@jupyter-widgets/controls",
            "_view_module_version": "1.5.0",
            "_view_name": "HTMLView",
            "description": "",
            "description_tooltip": null,
            "layout": "IPY_MODEL_9770301fa4624613b69d10f8f27bc707",
            "placeholder": "​",
            "style": "IPY_MODEL_e30618730d694e399dee6e60df4a3068",
            "value": " 10/10 [00:46&lt;00:00,  3.98s/it]"
          }
        },
        "a8784e8c41cd486495f222d59fc957f1": {
          "model_module": "@jupyter-widgets/base",
          "model_name": "LayoutModel",
          "model_module_version": "1.2.0",
          "state": {
            "_model_module": "@jupyter-widgets/base",
            "_model_module_version": "1.2.0",
            "_model_name": "LayoutModel",
            "_view_count": null,
            "_view_module": "@jupyter-widgets/base",
            "_view_module_version": "1.2.0",
            "_view_name": "LayoutView",
            "align_content": null,
            "align_items": null,
            "align_self": null,
            "border": null,
            "bottom": null,
            "display": null,
            "flex": null,
            "flex_flow": null,
            "grid_area": null,
            "grid_auto_columns": null,
            "grid_auto_flow": null,
            "grid_auto_rows": null,
            "grid_column": null,
            "grid_gap": null,
            "grid_row": null,
            "grid_template_areas": null,
            "grid_template_columns": null,
            "grid_template_rows": null,
            "height": null,
            "justify_content": null,
            "justify_items": null,
            "left": null,
            "margin": null,
            "max_height": null,
            "max_width": null,
            "min_height": null,
            "min_width": null,
            "object_fit": null,
            "object_position": null,
            "order": null,
            "overflow": null,
            "overflow_x": null,
            "overflow_y": null,
            "padding": null,
            "right": null,
            "top": null,
            "visibility": null,
            "width": null
          }
        },
        "8b0e179de06040fdb55c91ecf6e86a65": {
          "model_module": "@jupyter-widgets/base",
          "model_name": "LayoutModel",
          "model_module_version": "1.2.0",
          "state": {
            "_model_module": "@jupyter-widgets/base",
            "_model_module_version": "1.2.0",
            "_model_name": "LayoutModel",
            "_view_count": null,
            "_view_module": "@jupyter-widgets/base",
            "_view_module_version": "1.2.0",
            "_view_name": "LayoutView",
            "align_content": null,
            "align_items": null,
            "align_self": null,
            "border": null,
            "bottom": null,
            "display": null,
            "flex": null,
            "flex_flow": null,
            "grid_area": null,
            "grid_auto_columns": null,
            "grid_auto_flow": null,
            "grid_auto_rows": null,
            "grid_column": null,
            "grid_gap": null,
            "grid_row": null,
            "grid_template_areas": null,
            "grid_template_columns": null,
            "grid_template_rows": null,
            "height": null,
            "justify_content": null,
            "justify_items": null,
            "left": null,
            "margin": null,
            "max_height": null,
            "max_width": null,
            "min_height": null,
            "min_width": null,
            "object_fit": null,
            "object_position": null,
            "order": null,
            "overflow": null,
            "overflow_x": null,
            "overflow_y": null,
            "padding": null,
            "right": null,
            "top": null,
            "visibility": null,
            "width": null
          }
        },
        "5921f0cdae1e4113b1bf55c251cc021e": {
          "model_module": "@jupyter-widgets/controls",
          "model_name": "DescriptionStyleModel",
          "model_module_version": "1.5.0",
          "state": {
            "_model_module": "@jupyter-widgets/controls",
            "_model_module_version": "1.5.0",
            "_model_name": "DescriptionStyleModel",
            "_view_count": null,
            "_view_module": "@jupyter-widgets/base",
            "_view_module_version": "1.2.0",
            "_view_name": "StyleView",
            "description_width": ""
          }
        },
        "e3ace39bd0884042b3e51a669a58c21e": {
          "model_module": "@jupyter-widgets/base",
          "model_name": "LayoutModel",
          "model_module_version": "1.2.0",
          "state": {
            "_model_module": "@jupyter-widgets/base",
            "_model_module_version": "1.2.0",
            "_model_name": "LayoutModel",
            "_view_count": null,
            "_view_module": "@jupyter-widgets/base",
            "_view_module_version": "1.2.0",
            "_view_name": "LayoutView",
            "align_content": null,
            "align_items": null,
            "align_self": null,
            "border": null,
            "bottom": null,
            "display": null,
            "flex": null,
            "flex_flow": null,
            "grid_area": null,
            "grid_auto_columns": null,
            "grid_auto_flow": null,
            "grid_auto_rows": null,
            "grid_column": null,
            "grid_gap": null,
            "grid_row": null,
            "grid_template_areas": null,
            "grid_template_columns": null,
            "grid_template_rows": null,
            "height": null,
            "justify_content": null,
            "justify_items": null,
            "left": null,
            "margin": null,
            "max_height": null,
            "max_width": null,
            "min_height": null,
            "min_width": null,
            "object_fit": null,
            "object_position": null,
            "order": null,
            "overflow": null,
            "overflow_x": null,
            "overflow_y": null,
            "padding": null,
            "right": null,
            "top": null,
            "visibility": null,
            "width": null
          }
        },
        "a060e3019ab54e829d710215eccb7892": {
          "model_module": "@jupyter-widgets/controls",
          "model_name": "ProgressStyleModel",
          "model_module_version": "1.5.0",
          "state": {
            "_model_module": "@jupyter-widgets/controls",
            "_model_module_version": "1.5.0",
            "_model_name": "ProgressStyleModel",
            "_view_count": null,
            "_view_module": "@jupyter-widgets/base",
            "_view_module_version": "1.2.0",
            "_view_name": "StyleView",
            "bar_color": null,
            "description_width": ""
          }
        },
        "9770301fa4624613b69d10f8f27bc707": {
          "model_module": "@jupyter-widgets/base",
          "model_name": "LayoutModel",
          "model_module_version": "1.2.0",
          "state": {
            "_model_module": "@jupyter-widgets/base",
            "_model_module_version": "1.2.0",
            "_model_name": "LayoutModel",
            "_view_count": null,
            "_view_module": "@jupyter-widgets/base",
            "_view_module_version": "1.2.0",
            "_view_name": "LayoutView",
            "align_content": null,
            "align_items": null,
            "align_self": null,
            "border": null,
            "bottom": null,
            "display": null,
            "flex": null,
            "flex_flow": null,
            "grid_area": null,
            "grid_auto_columns": null,
            "grid_auto_flow": null,
            "grid_auto_rows": null,
            "grid_column": null,
            "grid_gap": null,
            "grid_row": null,
            "grid_template_areas": null,
            "grid_template_columns": null,
            "grid_template_rows": null,
            "height": null,
            "justify_content": null,
            "justify_items": null,
            "left": null,
            "margin": null,
            "max_height": null,
            "max_width": null,
            "min_height": null,
            "min_width": null,
            "object_fit": null,
            "object_position": null,
            "order": null,
            "overflow": null,
            "overflow_x": null,
            "overflow_y": null,
            "padding": null,
            "right": null,
            "top": null,
            "visibility": null,
            "width": null
          }
        },
        "e30618730d694e399dee6e60df4a3068": {
          "model_module": "@jupyter-widgets/controls",
          "model_name": "DescriptionStyleModel",
          "model_module_version": "1.5.0",
          "state": {
            "_model_module": "@jupyter-widgets/controls",
            "_model_module_version": "1.5.0",
            "_model_name": "DescriptionStyleModel",
            "_view_count": null,
            "_view_module": "@jupyter-widgets/base",
            "_view_module_version": "1.2.0",
            "_view_name": "StyleView",
            "description_width": ""
          }
        },
        "db1a8f29b87f4df3aae35c6aaf718852": {
          "model_module": "@jupyter-widgets/controls",
          "model_name": "HBoxModel",
          "model_module_version": "1.5.0",
          "state": {
            "_dom_classes": [],
            "_model_module": "@jupyter-widgets/controls",
            "_model_module_version": "1.5.0",
            "_model_name": "HBoxModel",
            "_view_count": null,
            "_view_module": "@jupyter-widgets/controls",
            "_view_module_version": "1.5.0",
            "_view_name": "HBoxView",
            "box_style": "",
            "children": [
              "IPY_MODEL_c9adf67c74584fca962a0cccb894fedf",
              "IPY_MODEL_a98fc44fd9b34f73acaab5b9df269e4c",
              "IPY_MODEL_df622924cd1e48a99f62b9ba6a54df8c"
            ],
            "layout": "IPY_MODEL_f43cd5500f114adeb5a15a8e63a78dff"
          }
        },
        "c9adf67c74584fca962a0cccb894fedf": {
          "model_module": "@jupyter-widgets/controls",
          "model_name": "HTMLModel",
          "model_module_version": "1.5.0",
          "state": {
            "_dom_classes": [],
            "_model_module": "@jupyter-widgets/controls",
            "_model_module_version": "1.5.0",
            "_model_name": "HTMLModel",
            "_view_count": null,
            "_view_module": "@jupyter-widgets/controls",
            "_view_module_version": "1.5.0",
            "_view_name": "HTMLView",
            "description": "",
            "description_tooltip": null,
            "layout": "IPY_MODEL_8798b08237e5444cb7c1ec7441cb6332",
            "placeholder": "​",
            "style": "IPY_MODEL_077db466815b4574a4df07493a9bd71d",
            "value": "100%"
          }
        },
        "a98fc44fd9b34f73acaab5b9df269e4c": {
          "model_module": "@jupyter-widgets/controls",
          "model_name": "FloatProgressModel",
          "model_module_version": "1.5.0",
          "state": {
            "_dom_classes": [],
            "_model_module": "@jupyter-widgets/controls",
            "_model_module_version": "1.5.0",
            "_model_name": "FloatProgressModel",
            "_view_count": null,
            "_view_module": "@jupyter-widgets/controls",
            "_view_module_version": "1.5.0",
            "_view_name": "ProgressView",
            "bar_style": "success",
            "description": "",
            "description_tooltip": null,
            "layout": "IPY_MODEL_1e87e835a2764c5f9f0bdfdc0caff6bf",
            "max": 10,
            "min": 0,
            "orientation": "horizontal",
            "style": "IPY_MODEL_8baf0520d9404805aff30c9e7e87e202",
            "value": 10
          }
        },
        "df622924cd1e48a99f62b9ba6a54df8c": {
          "model_module": "@jupyter-widgets/controls",
          "model_name": "HTMLModel",
          "model_module_version": "1.5.0",
          "state": {
            "_dom_classes": [],
            "_model_module": "@jupyter-widgets/controls",
            "_model_module_version": "1.5.0",
            "_model_name": "HTMLModel",
            "_view_count": null,
            "_view_module": "@jupyter-widgets/controls",
            "_view_module_version": "1.5.0",
            "_view_name": "HTMLView",
            "description": "",
            "description_tooltip": null,
            "layout": "IPY_MODEL_3ee9d8fda96648f7870c598f62ce6dce",
            "placeholder": "​",
            "style": "IPY_MODEL_7a8390d7b0674a56a97341eeb55ab22f",
            "value": " 10/10 [01:38&lt;00:00,  9.85s/it]"
          }
        },
        "f43cd5500f114adeb5a15a8e63a78dff": {
          "model_module": "@jupyter-widgets/base",
          "model_name": "LayoutModel",
          "model_module_version": "1.2.0",
          "state": {
            "_model_module": "@jupyter-widgets/base",
            "_model_module_version": "1.2.0",
            "_model_name": "LayoutModel",
            "_view_count": null,
            "_view_module": "@jupyter-widgets/base",
            "_view_module_version": "1.2.0",
            "_view_name": "LayoutView",
            "align_content": null,
            "align_items": null,
            "align_self": null,
            "border": null,
            "bottom": null,
            "display": null,
            "flex": null,
            "flex_flow": null,
            "grid_area": null,
            "grid_auto_columns": null,
            "grid_auto_flow": null,
            "grid_auto_rows": null,
            "grid_column": null,
            "grid_gap": null,
            "grid_row": null,
            "grid_template_areas": null,
            "grid_template_columns": null,
            "grid_template_rows": null,
            "height": null,
            "justify_content": null,
            "justify_items": null,
            "left": null,
            "margin": null,
            "max_height": null,
            "max_width": null,
            "min_height": null,
            "min_width": null,
            "object_fit": null,
            "object_position": null,
            "order": null,
            "overflow": null,
            "overflow_x": null,
            "overflow_y": null,
            "padding": null,
            "right": null,
            "top": null,
            "visibility": null,
            "width": null
          }
        },
        "8798b08237e5444cb7c1ec7441cb6332": {
          "model_module": "@jupyter-widgets/base",
          "model_name": "LayoutModel",
          "model_module_version": "1.2.0",
          "state": {
            "_model_module": "@jupyter-widgets/base",
            "_model_module_version": "1.2.0",
            "_model_name": "LayoutModel",
            "_view_count": null,
            "_view_module": "@jupyter-widgets/base",
            "_view_module_version": "1.2.0",
            "_view_name": "LayoutView",
            "align_content": null,
            "align_items": null,
            "align_self": null,
            "border": null,
            "bottom": null,
            "display": null,
            "flex": null,
            "flex_flow": null,
            "grid_area": null,
            "grid_auto_columns": null,
            "grid_auto_flow": null,
            "grid_auto_rows": null,
            "grid_column": null,
            "grid_gap": null,
            "grid_row": null,
            "grid_template_areas": null,
            "grid_template_columns": null,
            "grid_template_rows": null,
            "height": null,
            "justify_content": null,
            "justify_items": null,
            "left": null,
            "margin": null,
            "max_height": null,
            "max_width": null,
            "min_height": null,
            "min_width": null,
            "object_fit": null,
            "object_position": null,
            "order": null,
            "overflow": null,
            "overflow_x": null,
            "overflow_y": null,
            "padding": null,
            "right": null,
            "top": null,
            "visibility": null,
            "width": null
          }
        },
        "077db466815b4574a4df07493a9bd71d": {
          "model_module": "@jupyter-widgets/controls",
          "model_name": "DescriptionStyleModel",
          "model_module_version": "1.5.0",
          "state": {
            "_model_module": "@jupyter-widgets/controls",
            "_model_module_version": "1.5.0",
            "_model_name": "DescriptionStyleModel",
            "_view_count": null,
            "_view_module": "@jupyter-widgets/base",
            "_view_module_version": "1.2.0",
            "_view_name": "StyleView",
            "description_width": ""
          }
        },
        "1e87e835a2764c5f9f0bdfdc0caff6bf": {
          "model_module": "@jupyter-widgets/base",
          "model_name": "LayoutModel",
          "model_module_version": "1.2.0",
          "state": {
            "_model_module": "@jupyter-widgets/base",
            "_model_module_version": "1.2.0",
            "_model_name": "LayoutModel",
            "_view_count": null,
            "_view_module": "@jupyter-widgets/base",
            "_view_module_version": "1.2.0",
            "_view_name": "LayoutView",
            "align_content": null,
            "align_items": null,
            "align_self": null,
            "border": null,
            "bottom": null,
            "display": null,
            "flex": null,
            "flex_flow": null,
            "grid_area": null,
            "grid_auto_columns": null,
            "grid_auto_flow": null,
            "grid_auto_rows": null,
            "grid_column": null,
            "grid_gap": null,
            "grid_row": null,
            "grid_template_areas": null,
            "grid_template_columns": null,
            "grid_template_rows": null,
            "height": null,
            "justify_content": null,
            "justify_items": null,
            "left": null,
            "margin": null,
            "max_height": null,
            "max_width": null,
            "min_height": null,
            "min_width": null,
            "object_fit": null,
            "object_position": null,
            "order": null,
            "overflow": null,
            "overflow_x": null,
            "overflow_y": null,
            "padding": null,
            "right": null,
            "top": null,
            "visibility": null,
            "width": null
          }
        },
        "8baf0520d9404805aff30c9e7e87e202": {
          "model_module": "@jupyter-widgets/controls",
          "model_name": "ProgressStyleModel",
          "model_module_version": "1.5.0",
          "state": {
            "_model_module": "@jupyter-widgets/controls",
            "_model_module_version": "1.5.0",
            "_model_name": "ProgressStyleModel",
            "_view_count": null,
            "_view_module": "@jupyter-widgets/base",
            "_view_module_version": "1.2.0",
            "_view_name": "StyleView",
            "bar_color": null,
            "description_width": ""
          }
        },
        "3ee9d8fda96648f7870c598f62ce6dce": {
          "model_module": "@jupyter-widgets/base",
          "model_name": "LayoutModel",
          "model_module_version": "1.2.0",
          "state": {
            "_model_module": "@jupyter-widgets/base",
            "_model_module_version": "1.2.0",
            "_model_name": "LayoutModel",
            "_view_count": null,
            "_view_module": "@jupyter-widgets/base",
            "_view_module_version": "1.2.0",
            "_view_name": "LayoutView",
            "align_content": null,
            "align_items": null,
            "align_self": null,
            "border": null,
            "bottom": null,
            "display": null,
            "flex": null,
            "flex_flow": null,
            "grid_area": null,
            "grid_auto_columns": null,
            "grid_auto_flow": null,
            "grid_auto_rows": null,
            "grid_column": null,
            "grid_gap": null,
            "grid_row": null,
            "grid_template_areas": null,
            "grid_template_columns": null,
            "grid_template_rows": null,
            "height": null,
            "justify_content": null,
            "justify_items": null,
            "left": null,
            "margin": null,
            "max_height": null,
            "max_width": null,
            "min_height": null,
            "min_width": null,
            "object_fit": null,
            "object_position": null,
            "order": null,
            "overflow": null,
            "overflow_x": null,
            "overflow_y": null,
            "padding": null,
            "right": null,
            "top": null,
            "visibility": null,
            "width": null
          }
        },
        "7a8390d7b0674a56a97341eeb55ab22f": {
          "model_module": "@jupyter-widgets/controls",
          "model_name": "DescriptionStyleModel",
          "model_module_version": "1.5.0",
          "state": {
            "_model_module": "@jupyter-widgets/controls",
            "_model_module_version": "1.5.0",
            "_model_name": "DescriptionStyleModel",
            "_view_count": null,
            "_view_module": "@jupyter-widgets/base",
            "_view_module_version": "1.2.0",
            "_view_name": "StyleView",
            "description_width": ""
          }
        },
        "30e305e2461a450cbbebe25e7b04f799": {
          "model_module": "@jupyter-widgets/controls",
          "model_name": "HBoxModel",
          "model_module_version": "1.5.0",
          "state": {
            "_dom_classes": [],
            "_model_module": "@jupyter-widgets/controls",
            "_model_module_version": "1.5.0",
            "_model_name": "HBoxModel",
            "_view_count": null,
            "_view_module": "@jupyter-widgets/controls",
            "_view_module_version": "1.5.0",
            "_view_name": "HBoxView",
            "box_style": "",
            "children": [
              "IPY_MODEL_7df9132af1124e98a2cedb6c224b17b2",
              "IPY_MODEL_67d76363197b4b1fbd1f234d6b3c2d2b",
              "IPY_MODEL_9d6ff3685df74482a0068a9f9977d054"
            ],
            "layout": "IPY_MODEL_6374224828154e39a242c9e182a252b3"
          }
        },
        "7df9132af1124e98a2cedb6c224b17b2": {
          "model_module": "@jupyter-widgets/controls",
          "model_name": "HTMLModel",
          "model_module_version": "1.5.0",
          "state": {
            "_dom_classes": [],
            "_model_module": "@jupyter-widgets/controls",
            "_model_module_version": "1.5.0",
            "_model_name": "HTMLModel",
            "_view_count": null,
            "_view_module": "@jupyter-widgets/controls",
            "_view_module_version": "1.5.0",
            "_view_name": "HTMLView",
            "description": "",
            "description_tooltip": null,
            "layout": "IPY_MODEL_2ce49a1fc9934fb4a500c8cde1396e92",
            "placeholder": "​",
            "style": "IPY_MODEL_f7f7b9f15e73401bab143b0309e5b6cd",
            "value": "100%"
          }
        },
        "67d76363197b4b1fbd1f234d6b3c2d2b": {
          "model_module": "@jupyter-widgets/controls",
          "model_name": "FloatProgressModel",
          "model_module_version": "1.5.0",
          "state": {
            "_dom_classes": [],
            "_model_module": "@jupyter-widgets/controls",
            "_model_module_version": "1.5.0",
            "_model_name": "FloatProgressModel",
            "_view_count": null,
            "_view_module": "@jupyter-widgets/controls",
            "_view_module_version": "1.5.0",
            "_view_name": "ProgressView",
            "bar_style": "success",
            "description": "",
            "description_tooltip": null,
            "layout": "IPY_MODEL_68ca5a64d7204b48992d63d43c289f8f",
            "max": 200,
            "min": 0,
            "orientation": "horizontal",
            "style": "IPY_MODEL_ffa4bbc685f64ac8a22af29b48bba1d7",
            "value": 200
          }
        },
        "9d6ff3685df74482a0068a9f9977d054": {
          "model_module": "@jupyter-widgets/controls",
          "model_name": "HTMLModel",
          "model_module_version": "1.5.0",
          "state": {
            "_dom_classes": [],
            "_model_module": "@jupyter-widgets/controls",
            "_model_module_version": "1.5.0",
            "_model_name": "HTMLModel",
            "_view_count": null,
            "_view_module": "@jupyter-widgets/controls",
            "_view_module_version": "1.5.0",
            "_view_name": "HTMLView",
            "description": "",
            "description_tooltip": null,
            "layout": "IPY_MODEL_afedc36c0aad40db9015c0561446fe1f",
            "placeholder": "​",
            "style": "IPY_MODEL_c8e23013d8c64ca88df799399c06f471",
            "value": " 200/200 [00:08&lt;00:00, 24.49it/s]"
          }
        },
        "6374224828154e39a242c9e182a252b3": {
          "model_module": "@jupyter-widgets/base",
          "model_name": "LayoutModel",
          "model_module_version": "1.2.0",
          "state": {
            "_model_module": "@jupyter-widgets/base",
            "_model_module_version": "1.2.0",
            "_model_name": "LayoutModel",
            "_view_count": null,
            "_view_module": "@jupyter-widgets/base",
            "_view_module_version": "1.2.0",
            "_view_name": "LayoutView",
            "align_content": null,
            "align_items": null,
            "align_self": null,
            "border": null,
            "bottom": null,
            "display": null,
            "flex": null,
            "flex_flow": null,
            "grid_area": null,
            "grid_auto_columns": null,
            "grid_auto_flow": null,
            "grid_auto_rows": null,
            "grid_column": null,
            "grid_gap": null,
            "grid_row": null,
            "grid_template_areas": null,
            "grid_template_columns": null,
            "grid_template_rows": null,
            "height": null,
            "justify_content": null,
            "justify_items": null,
            "left": null,
            "margin": null,
            "max_height": null,
            "max_width": null,
            "min_height": null,
            "min_width": null,
            "object_fit": null,
            "object_position": null,
            "order": null,
            "overflow": null,
            "overflow_x": null,
            "overflow_y": null,
            "padding": null,
            "right": null,
            "top": null,
            "visibility": null,
            "width": null
          }
        },
        "2ce49a1fc9934fb4a500c8cde1396e92": {
          "model_module": "@jupyter-widgets/base",
          "model_name": "LayoutModel",
          "model_module_version": "1.2.0",
          "state": {
            "_model_module": "@jupyter-widgets/base",
            "_model_module_version": "1.2.0",
            "_model_name": "LayoutModel",
            "_view_count": null,
            "_view_module": "@jupyter-widgets/base",
            "_view_module_version": "1.2.0",
            "_view_name": "LayoutView",
            "align_content": null,
            "align_items": null,
            "align_self": null,
            "border": null,
            "bottom": null,
            "display": null,
            "flex": null,
            "flex_flow": null,
            "grid_area": null,
            "grid_auto_columns": null,
            "grid_auto_flow": null,
            "grid_auto_rows": null,
            "grid_column": null,
            "grid_gap": null,
            "grid_row": null,
            "grid_template_areas": null,
            "grid_template_columns": null,
            "grid_template_rows": null,
            "height": null,
            "justify_content": null,
            "justify_items": null,
            "left": null,
            "margin": null,
            "max_height": null,
            "max_width": null,
            "min_height": null,
            "min_width": null,
            "object_fit": null,
            "object_position": null,
            "order": null,
            "overflow": null,
            "overflow_x": null,
            "overflow_y": null,
            "padding": null,
            "right": null,
            "top": null,
            "visibility": null,
            "width": null
          }
        },
        "f7f7b9f15e73401bab143b0309e5b6cd": {
          "model_module": "@jupyter-widgets/controls",
          "model_name": "DescriptionStyleModel",
          "model_module_version": "1.5.0",
          "state": {
            "_model_module": "@jupyter-widgets/controls",
            "_model_module_version": "1.5.0",
            "_model_name": "DescriptionStyleModel",
            "_view_count": null,
            "_view_module": "@jupyter-widgets/base",
            "_view_module_version": "1.2.0",
            "_view_name": "StyleView",
            "description_width": ""
          }
        },
        "68ca5a64d7204b48992d63d43c289f8f": {
          "model_module": "@jupyter-widgets/base",
          "model_name": "LayoutModel",
          "model_module_version": "1.2.0",
          "state": {
            "_model_module": "@jupyter-widgets/base",
            "_model_module_version": "1.2.0",
            "_model_name": "LayoutModel",
            "_view_count": null,
            "_view_module": "@jupyter-widgets/base",
            "_view_module_version": "1.2.0",
            "_view_name": "LayoutView",
            "align_content": null,
            "align_items": null,
            "align_self": null,
            "border": null,
            "bottom": null,
            "display": null,
            "flex": null,
            "flex_flow": null,
            "grid_area": null,
            "grid_auto_columns": null,
            "grid_auto_flow": null,
            "grid_auto_rows": null,
            "grid_column": null,
            "grid_gap": null,
            "grid_row": null,
            "grid_template_areas": null,
            "grid_template_columns": null,
            "grid_template_rows": null,
            "height": null,
            "justify_content": null,
            "justify_items": null,
            "left": null,
            "margin": null,
            "max_height": null,
            "max_width": null,
            "min_height": null,
            "min_width": null,
            "object_fit": null,
            "object_position": null,
            "order": null,
            "overflow": null,
            "overflow_x": null,
            "overflow_y": null,
            "padding": null,
            "right": null,
            "top": null,
            "visibility": null,
            "width": null
          }
        },
        "ffa4bbc685f64ac8a22af29b48bba1d7": {
          "model_module": "@jupyter-widgets/controls",
          "model_name": "ProgressStyleModel",
          "model_module_version": "1.5.0",
          "state": {
            "_model_module": "@jupyter-widgets/controls",
            "_model_module_version": "1.5.0",
            "_model_name": "ProgressStyleModel",
            "_view_count": null,
            "_view_module": "@jupyter-widgets/base",
            "_view_module_version": "1.2.0",
            "_view_name": "StyleView",
            "bar_color": null,
            "description_width": ""
          }
        },
        "afedc36c0aad40db9015c0561446fe1f": {
          "model_module": "@jupyter-widgets/base",
          "model_name": "LayoutModel",
          "model_module_version": "1.2.0",
          "state": {
            "_model_module": "@jupyter-widgets/base",
            "_model_module_version": "1.2.0",
            "_model_name": "LayoutModel",
            "_view_count": null,
            "_view_module": "@jupyter-widgets/base",
            "_view_module_version": "1.2.0",
            "_view_name": "LayoutView",
            "align_content": null,
            "align_items": null,
            "align_self": null,
            "border": null,
            "bottom": null,
            "display": null,
            "flex": null,
            "flex_flow": null,
            "grid_area": null,
            "grid_auto_columns": null,
            "grid_auto_flow": null,
            "grid_auto_rows": null,
            "grid_column": null,
            "grid_gap": null,
            "grid_row": null,
            "grid_template_areas": null,
            "grid_template_columns": null,
            "grid_template_rows": null,
            "height": null,
            "justify_content": null,
            "justify_items": null,
            "left": null,
            "margin": null,
            "max_height": null,
            "max_width": null,
            "min_height": null,
            "min_width": null,
            "object_fit": null,
            "object_position": null,
            "order": null,
            "overflow": null,
            "overflow_x": null,
            "overflow_y": null,
            "padding": null,
            "right": null,
            "top": null,
            "visibility": null,
            "width": null
          }
        },
        "c8e23013d8c64ca88df799399c06f471": {
          "model_module": "@jupyter-widgets/controls",
          "model_name": "DescriptionStyleModel",
          "model_module_version": "1.5.0",
          "state": {
            "_model_module": "@jupyter-widgets/controls",
            "_model_module_version": "1.5.0",
            "_model_name": "DescriptionStyleModel",
            "_view_count": null,
            "_view_module": "@jupyter-widgets/base",
            "_view_module_version": "1.2.0",
            "_view_name": "StyleView",
            "description_width": ""
          }
        },
        "c0603fea199f4532b3785909c90f186d": {
          "model_module": "@jupyter-widgets/controls",
          "model_name": "HBoxModel",
          "model_module_version": "1.5.0",
          "state": {
            "_dom_classes": [],
            "_model_module": "@jupyter-widgets/controls",
            "_model_module_version": "1.5.0",
            "_model_name": "HBoxModel",
            "_view_count": null,
            "_view_module": "@jupyter-widgets/controls",
            "_view_module_version": "1.5.0",
            "_view_name": "HBoxView",
            "box_style": "",
            "children": [
              "IPY_MODEL_69d6c9d7c68045a3a0d5c0c166576515",
              "IPY_MODEL_1fa69d7a939a4c8d9d42ce30e2399b5b",
              "IPY_MODEL_759f280b49844b5bad21e75315cdde38"
            ],
            "layout": "IPY_MODEL_bbfca0f3bca34ac58383c979a8b26f27"
          }
        },
        "69d6c9d7c68045a3a0d5c0c166576515": {
          "model_module": "@jupyter-widgets/controls",
          "model_name": "HTMLModel",
          "model_module_version": "1.5.0",
          "state": {
            "_dom_classes": [],
            "_model_module": "@jupyter-widgets/controls",
            "_model_module_version": "1.5.0",
            "_model_name": "HTMLModel",
            "_view_count": null,
            "_view_module": "@jupyter-widgets/controls",
            "_view_module_version": "1.5.0",
            "_view_name": "HTMLView",
            "description": "",
            "description_tooltip": null,
            "layout": "IPY_MODEL_f0003abdd64c42cc9e305d1eefb20f59",
            "placeholder": "​",
            "style": "IPY_MODEL_0e8e72603671401c9b334d01d53f3b84",
            "value": "100%"
          }
        },
        "1fa69d7a939a4c8d9d42ce30e2399b5b": {
          "model_module": "@jupyter-widgets/controls",
          "model_name": "FloatProgressModel",
          "model_module_version": "1.5.0",
          "state": {
            "_dom_classes": [],
            "_model_module": "@jupyter-widgets/controls",
            "_model_module_version": "1.5.0",
            "_model_name": "FloatProgressModel",
            "_view_count": null,
            "_view_module": "@jupyter-widgets/controls",
            "_view_module_version": "1.5.0",
            "_view_name": "ProgressView",
            "bar_style": "success",
            "description": "",
            "description_tooltip": null,
            "layout": "IPY_MODEL_42f912935bb84a23b105d298179e50a9",
            "max": 200,
            "min": 0,
            "orientation": "horizontal",
            "style": "IPY_MODEL_02315cfc2b0540dfb234d611df88b3d9",
            "value": 200
          }
        },
        "759f280b49844b5bad21e75315cdde38": {
          "model_module": "@jupyter-widgets/controls",
          "model_name": "HTMLModel",
          "model_module_version": "1.5.0",
          "state": {
            "_dom_classes": [],
            "_model_module": "@jupyter-widgets/controls",
            "_model_module_version": "1.5.0",
            "_model_name": "HTMLModel",
            "_view_count": null,
            "_view_module": "@jupyter-widgets/controls",
            "_view_module_version": "1.5.0",
            "_view_name": "HTMLView",
            "description": "",
            "description_tooltip": null,
            "layout": "IPY_MODEL_0a5e817b22d5416cb15ba9c4b26cd599",
            "placeholder": "​",
            "style": "IPY_MODEL_49a7074beb374561a8f414ea628c76e0",
            "value": " 200/200 [03:24&lt;00:00,  1.12it/s]"
          }
        },
        "bbfca0f3bca34ac58383c979a8b26f27": {
          "model_module": "@jupyter-widgets/base",
          "model_name": "LayoutModel",
          "model_module_version": "1.2.0",
          "state": {
            "_model_module": "@jupyter-widgets/base",
            "_model_module_version": "1.2.0",
            "_model_name": "LayoutModel",
            "_view_count": null,
            "_view_module": "@jupyter-widgets/base",
            "_view_module_version": "1.2.0",
            "_view_name": "LayoutView",
            "align_content": null,
            "align_items": null,
            "align_self": null,
            "border": null,
            "bottom": null,
            "display": null,
            "flex": null,
            "flex_flow": null,
            "grid_area": null,
            "grid_auto_columns": null,
            "grid_auto_flow": null,
            "grid_auto_rows": null,
            "grid_column": null,
            "grid_gap": null,
            "grid_row": null,
            "grid_template_areas": null,
            "grid_template_columns": null,
            "grid_template_rows": null,
            "height": null,
            "justify_content": null,
            "justify_items": null,
            "left": null,
            "margin": null,
            "max_height": null,
            "max_width": null,
            "min_height": null,
            "min_width": null,
            "object_fit": null,
            "object_position": null,
            "order": null,
            "overflow": null,
            "overflow_x": null,
            "overflow_y": null,
            "padding": null,
            "right": null,
            "top": null,
            "visibility": null,
            "width": null
          }
        },
        "f0003abdd64c42cc9e305d1eefb20f59": {
          "model_module": "@jupyter-widgets/base",
          "model_name": "LayoutModel",
          "model_module_version": "1.2.0",
          "state": {
            "_model_module": "@jupyter-widgets/base",
            "_model_module_version": "1.2.0",
            "_model_name": "LayoutModel",
            "_view_count": null,
            "_view_module": "@jupyter-widgets/base",
            "_view_module_version": "1.2.0",
            "_view_name": "LayoutView",
            "align_content": null,
            "align_items": null,
            "align_self": null,
            "border": null,
            "bottom": null,
            "display": null,
            "flex": null,
            "flex_flow": null,
            "grid_area": null,
            "grid_auto_columns": null,
            "grid_auto_flow": null,
            "grid_auto_rows": null,
            "grid_column": null,
            "grid_gap": null,
            "grid_row": null,
            "grid_template_areas": null,
            "grid_template_columns": null,
            "grid_template_rows": null,
            "height": null,
            "justify_content": null,
            "justify_items": null,
            "left": null,
            "margin": null,
            "max_height": null,
            "max_width": null,
            "min_height": null,
            "min_width": null,
            "object_fit": null,
            "object_position": null,
            "order": null,
            "overflow": null,
            "overflow_x": null,
            "overflow_y": null,
            "padding": null,
            "right": null,
            "top": null,
            "visibility": null,
            "width": null
          }
        },
        "0e8e72603671401c9b334d01d53f3b84": {
          "model_module": "@jupyter-widgets/controls",
          "model_name": "DescriptionStyleModel",
          "model_module_version": "1.5.0",
          "state": {
            "_model_module": "@jupyter-widgets/controls",
            "_model_module_version": "1.5.0",
            "_model_name": "DescriptionStyleModel",
            "_view_count": null,
            "_view_module": "@jupyter-widgets/base",
            "_view_module_version": "1.2.0",
            "_view_name": "StyleView",
            "description_width": ""
          }
        },
        "42f912935bb84a23b105d298179e50a9": {
          "model_module": "@jupyter-widgets/base",
          "model_name": "LayoutModel",
          "model_module_version": "1.2.0",
          "state": {
            "_model_module": "@jupyter-widgets/base",
            "_model_module_version": "1.2.0",
            "_model_name": "LayoutModel",
            "_view_count": null,
            "_view_module": "@jupyter-widgets/base",
            "_view_module_version": "1.2.0",
            "_view_name": "LayoutView",
            "align_content": null,
            "align_items": null,
            "align_self": null,
            "border": null,
            "bottom": null,
            "display": null,
            "flex": null,
            "flex_flow": null,
            "grid_area": null,
            "grid_auto_columns": null,
            "grid_auto_flow": null,
            "grid_auto_rows": null,
            "grid_column": null,
            "grid_gap": null,
            "grid_row": null,
            "grid_template_areas": null,
            "grid_template_columns": null,
            "grid_template_rows": null,
            "height": null,
            "justify_content": null,
            "justify_items": null,
            "left": null,
            "margin": null,
            "max_height": null,
            "max_width": null,
            "min_height": null,
            "min_width": null,
            "object_fit": null,
            "object_position": null,
            "order": null,
            "overflow": null,
            "overflow_x": null,
            "overflow_y": null,
            "padding": null,
            "right": null,
            "top": null,
            "visibility": null,
            "width": null
          }
        },
        "02315cfc2b0540dfb234d611df88b3d9": {
          "model_module": "@jupyter-widgets/controls",
          "model_name": "ProgressStyleModel",
          "model_module_version": "1.5.0",
          "state": {
            "_model_module": "@jupyter-widgets/controls",
            "_model_module_version": "1.5.0",
            "_model_name": "ProgressStyleModel",
            "_view_count": null,
            "_view_module": "@jupyter-widgets/base",
            "_view_module_version": "1.2.0",
            "_view_name": "StyleView",
            "bar_color": null,
            "description_width": ""
          }
        },
        "0a5e817b22d5416cb15ba9c4b26cd599": {
          "model_module": "@jupyter-widgets/base",
          "model_name": "LayoutModel",
          "model_module_version": "1.2.0",
          "state": {
            "_model_module": "@jupyter-widgets/base",
            "_model_module_version": "1.2.0",
            "_model_name": "LayoutModel",
            "_view_count": null,
            "_view_module": "@jupyter-widgets/base",
            "_view_module_version": "1.2.0",
            "_view_name": "LayoutView",
            "align_content": null,
            "align_items": null,
            "align_self": null,
            "border": null,
            "bottom": null,
            "display": null,
            "flex": null,
            "flex_flow": null,
            "grid_area": null,
            "grid_auto_columns": null,
            "grid_auto_flow": null,
            "grid_auto_rows": null,
            "grid_column": null,
            "grid_gap": null,
            "grid_row": null,
            "grid_template_areas": null,
            "grid_template_columns": null,
            "grid_template_rows": null,
            "height": null,
            "justify_content": null,
            "justify_items": null,
            "left": null,
            "margin": null,
            "max_height": null,
            "max_width": null,
            "min_height": null,
            "min_width": null,
            "object_fit": null,
            "object_position": null,
            "order": null,
            "overflow": null,
            "overflow_x": null,
            "overflow_y": null,
            "padding": null,
            "right": null,
            "top": null,
            "visibility": null,
            "width": null
          }
        },
        "49a7074beb374561a8f414ea628c76e0": {
          "model_module": "@jupyter-widgets/controls",
          "model_name": "DescriptionStyleModel",
          "model_module_version": "1.5.0",
          "state": {
            "_model_module": "@jupyter-widgets/controls",
            "_model_module_version": "1.5.0",
            "_model_name": "DescriptionStyleModel",
            "_view_count": null,
            "_view_module": "@jupyter-widgets/base",
            "_view_module_version": "1.2.0",
            "_view_name": "StyleView",
            "description_width": ""
          }
        }
      }
    }
  },
  "nbformat": 4,
  "nbformat_minor": 0
}